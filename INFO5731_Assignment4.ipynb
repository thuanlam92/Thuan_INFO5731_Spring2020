{
  "nbformat": 4,
  "nbformat_minor": 0,
  "metadata": {
    "colab": {
      "name": "INFO5731_Assignment4",
      "provenance": [],
      "collapsed_sections": [],
      "authorship_tag": "ABX9TyMTHqXmURc538qmCQpiKUhk",
      "include_colab_link": true
    },
    "kernelspec": {
      "name": "python3",
      "display_name": "Python 3"
    }
  },
  "cells": [
    {
      "cell_type": "markdown",
      "metadata": {
        "id": "view-in-github",
        "colab_type": "text"
      },
      "source": [
        "<a href=\"https://colab.research.google.com/github/thuanlam92/Thuan_INFO5731_Spring2020/blob/master/INFO5731_Assignment4.ipynb\" target=\"_parent\"><img src=\"https://colab.research.google.com/assets/colab-badge.svg\" alt=\"Open In Colab\"/></a>"
      ]
    },
    {
      "cell_type": "markdown",
      "metadata": {
        "id": "diwXoE76ALZr",
        "colab_type": "text"
      },
      "source": [
        "# **INFO5731 Assignment Four**\n",
        "\n",
        "In this assignment, you are required to conduct topic modeling, sentiment analysis based on **the dataset you created from assignment three**."
      ]
    },
    {
      "cell_type": "markdown",
      "metadata": {
        "id": "bxRcs6EHAN8x",
        "colab_type": "text"
      },
      "source": [
        "# **Question 1: Topic Modeling**\n",
        "(30 points). This question is designed to help you develop a feel for the way topic modeling works, the connection to the human meanings of documents. Based on the dataset from assignment three, write a python program to **identify the top 10 topics in the dataset**. Before answering this question, please review the materials in lesson 8, especially the code for LDA and LSA. The following information should be reported:\n",
        "\n",
        "(1) Features (top n-gram phrases) used for topic modeling.\n",
        "\n",
        "(2) Top 10 clusters for topic modeling.\n",
        "\n",
        "(3) Summarize and describe the topic for each cluster. "
      ]
    },
    {
      "cell_type": "code",
      "metadata": {
        "id": "7nO5o6UkB0iC",
        "colab_type": "code",
        "colab": {}
      },
      "source": [
        "#source: https://towardsdatascience.com/topic-modelling-in-python-with-nltk-and-gensim-4ef03213cd21\n",
        "#source: https://towardsdatascience.com/the-complete-guide-for-topics-extraction-in-python-a6aaa6cedbbc\n",
        "#source: https://www.machinelearningplus.com/nlp/topic-modeling-gensim-python/\n"
      ],
      "execution_count": 0,
      "outputs": []
    },
    {
      "cell_type": "code",
      "metadata": {
        "id": "mJA3c3fhDb0j",
        "colab_type": "code",
        "colab": {}
      },
      "source": [
        "def prepare_text_for_lda(text):\n",
        "    tokens = tokenize(text)\n",
        "    tokens = [token for token in tokens if len(token) > 4]\n",
        "    tokens = [token for token in tokens if token not in en_stop]\n",
        "    tokens = [get_lemma(token) for token in tokens]\n",
        "    return tokens\n",
        "    \n"
      ],
      "execution_count": 0,
      "outputs": []
    },
    {
      "cell_type": "code",
      "metadata": {
        "id": "S8cTJL3cDgC8",
        "colab_type": "code",
        "outputId": "8308ac30-a5b6-4f63-bca2-fa10ae033549",
        "colab": {
          "base_uri": "https://localhost:8080/",
          "height": 411
        }
      },
      "source": [
        "import random\n",
        "text_data = []\n",
        "with open('Assignment4_data.csv') as f:\n",
        "    for line in f:\n",
        "        tokens = prepare_text_for_lda(line)\n",
        "        print(tokens)\n",
        "text_data.append(tokens)"
      ],
      "execution_count": 0,
      "outputs": [
        {
          "output_type": "stream",
          "text": [
            "['person', 'claim', 'masterpiece', 'overreact', 'overblown', 'excitement', 'another', 'joker', 'base', 'thought', 'look', 'solid', 'pretentious', 'trailer', 'incredibly', 'wrong', 'massive', 'achievement', 'cinema', 'extremely', 'nonsense', 'reboot', 'somewhat', 'reboot', 'sort', 'standalone', 'origin', 'impeccable', 'start', 'finish', 'echo', 'resemblance', 'joker', 'origin', 'comic_strip', 'joaquin', 'bleed', 'sweats', 'cry', 'every', 'magnificently', 'dedicate', 'performance', 'heath', 'ledger', 'would', 'proud', 'undoubtedly', 'greatest', 'acting', 'performance', 'since', 'heath', 'joker', 'direct', 'writing', 'slickly', 'brilliant', 'bleak', 'setting', 'tone', 'palpable', 'throughout', 'place', 'blow', 'every', 'audience', 'member', 'awestruck', 'witness', 'could', 'still', 'transport', 'character', 'world', 'existence', 'believe', 'going', 'revere', 'transcend', 'masterpiece', 'cinema', 'every', 'movie', 'come', 'truly', 'make', 'impact', 'joaquins', 'performance', 'scenography', 'brilliance', 'grotesque', 'haunt', 'cringy', 'watch', 'times', 'mesmerize', 'blink', 'watching', 'tragic', 'seriously', 'funny', 'moment', 'emotional', 'rollercoaster', 'sometimes', 'multiple', 'emotion', 'poppingup', 'timethis', 'typical', 'actionriddled', 'predictable', 'superhero', 'movie', 'proper', 'psychological', 'thrillerdrama', 'single', 'character', 'development', 'movie', 'alone', 'isolate', 'truly', 'relate', 'understand', 'motive', 'sorry', 'character', 'people', 'movie', 'think', 'encourage', 'violence', 'truly', 'movie', 'encourage', 'every', 'become', 'better', 'person', 'treat', 'everyone', 'respect', 'belong', 'world', 'instead', 'making', 'isolate', 'truly', 'masterpiece', 'hollywood', 'film', 'decade', 'truly', 'bring', 'comic', 'chillingly', 'realistically', 'positive']\n",
            "['2,remarkable', 'direction', 'cinematography', 'music', 'acting', 'positive']\n",
            "['3,some', 'people', 'surprise', 'disturb', 'violent', 'necessity', 'message', 'neutral']\n",
            "['4,its', 'society', 'reflect', 'underappreciatedunrecognizedbullied', 'people', 'prove', 'something', 'neutral']\n",
            "['5,the', 'show', 'class', 'difference', 'corruption', 'talented', 'others', 'around', 'exaggerate', 'make', 'different', 'positive']\n",
            "['6,its', 'believable', 'positive']\n",
            "['7,there', 'could', 'multiple', 'joker', 'living', 'society', 'could', 'shake', 'around', 'bitter', 'show', 'making', 'people', 'uncomforting', 'people', 'positive']\n",
            "['8,consider', 'message', 'first', 'perfect', 'movie', 'anticipate', 'fall', 'short', 'short', 'joker', 'first', 'happy', 'please', 'ignore', 'complaint', 'pernicious', 'violence', 'embarrass', 'least', 'comic', 'movie', 'deserve', 'better', 'class', 'criminal', 'phillips', 'phoenix', 'deliver', 'joker', 'villain', 'always', 'romantic', 'anyway', 'joaquin', 'phoenix', 'give', 'force', 'performance', 'fearless', 'stun', 'emotional', 'depth', 'physicality', 'impossible', 'without', 'reference', 'heath', 'ledger', 'oscarwinning', 'performance', 'knight', 'widely', 'consider', 'definitive', 'liveaction', 'portrayal', 'joker', 'everyone', 'going', 'stun', 'phoenix', 'accomplish', 'thought', 'impossible', 'portrayal', 'match', 'potentially', 'exceed', 'knight', 'clown', 'prince', 'crime', 'start', 'saying', 'joaquin', 'phoneix', 'oscar', 'movie', 'oscar', 'cancel', 'phoneix', 'amaze', 'might', 'hear', 'every', 'review', 'phillips', 'story', 'line', 'take', 'visuals', 'breathtaking', 'score', 'score', 'every', 'score', 'uncomfortable', 'something', 'horrible', 'happen', 'great', 'inspiration', 'driver', 'comedy', 'movie', 'honest', 'scene', 'violent', 'disturb', 'honestly', 'expect', 'wayyyy', 'violent', 'controversy', 'going', 'overall', 'movie', 'great', 'oscar', 'season', 'need', 'nominate', 'picture', 'screenplay', 'cinematography', 'actor', 'score', 'director', 'people', 'political', 'message', 'people', 'think', 'empathy', 'arthur', 'madness', 'point', 'never', 'enjoy', 'masterpiece', 'joaquin', 'phoenix', 'phillips', 'overdo', 'movie', 'actingmusic', 'cinematography', 'amaze', 'please', 'enjoy', 'movie', 'without', 'overthinking', 'joker', 'yesterday', 'venice', 'early', 'illfated', 'screening', 'trouble', 'audio', 'nearhour', 'delay', 'definitely', 'worth', 'itjoker', 'deserve', 'present', 'venice', 'festival', 'event', 'regard', 'cinema', 'blockbuster', 'entertainer', 'movie', 'film', 'genre', 'areit', 'focus', 'psyche', 'character', 'slowly', 'crumble', 'pressure', 'society', 'joaquin', 'phoenix', 'wonderful', 'performance', 'earn', 'almost', 'surely', 'nomination', 'oscar', 'least', 'positive']\n",
            "['9,its', 'joker', 'differ', 'ledger', 'equally', 'difference', 'might', 'ledger', 'joker', 'rational', 'insane', 'phoenix', 'insane', 'rootdespite', 'movie', 'superhero', 'villain', 'joker', 'superior', 'movie', 'genre', 'exclude', 'knight', 'trilogy', 'joker', 'easily', 'nolans', 'movie', 'least', 'close', 'smallscaled', 'distinct', 'style', 'cinematography', 'appreciate', 'cinephile', 'reference', 'however', 'force', 'overly', 'opressive', 'notable', 'similarity', 'scorsese', 'driver', 'comedy', 'chaplin', 'modern', 'times', 'somewhat', 'referencedi', 'eager', 'noncomedic', 'effort', 'phillips', 'movie', 'probably', 'worst', 'contest', 'dolor', 'gloria', 'hollywood', 'convince', 'joaquin', 'miss', 'oscar', 'gladiator', 'compel', 'villain', 'quite', 'confident', 'joker', 'movie', 'keep', 'unpredictable', 'storyline', 'really', 'interest', 'forget', 'mention', 'acting', 'joaquin', 'teach', 'really', 'acting', 'positive']\n",
            "['10,to', 'enjoy', 'movie', 'close', 'curtain', 'cellphone', 'disturb', 'thriller', 'suspense', 'movie', 'experience', 'watch', 'joker', 'venice', 'joaquin', 'oscar', 'something', 'wrong', 'world', 'perfomance', 'jawdropping', 'glue', 'screen', 'story', 'interest', 'connection', 'batman', 'loreespecially', 'guess', 'trailer', 'scene', 'tense', 'wellacted', 'imaginative', 'movie', 'cinematography', 'direction', 'great', 'prove', 'director', 'robert', 'small', 'definitely', 'october', 'movie', 'cause', 'audience', 'consider', 'topic', 'morality', 'particularly', 'choice', 'joker', 'joker', 'relatable', 'movie', 'antagonist', 'usually', 'think', 'give', 'realistic', 'people', 'usually', 'society', 'often', 'judges', 'important', 'sympathize', 'joker', 'towards', 'beginning', 'movie', 'need', 'identify', 'threat', 'begin', 'making', 'certain', 'choice', 'movie', 'suitable', 'adult', 'willing', 'apart', 'think', 'critically', 'light', 'amusement', 'substance', 'make', 'goodif', 'ponder', 'underlie', 'theme', 'hand', 'thought', 'movie', 'acting', 'cinematography', 'sound', 'design', 'script', 'phenomenal', 'movie', 'triumph', 'joaquin', 'pheonix', 'deserve', 'oscar', 'watching', 'movie', 'joaquin', 'phoenix', 'award', 'oscar', 'tremendous', 'acting', 'rely', 'critic', 'review', 'years', 'notice', 'movie', 'critic', 'rating', 'viewer', 'rating', 'point', 'critic', 'movie', 'wrong', 'positive']\n",
            "['tonite', 'skeptical', 'expectation', 'expect', 'typical', 'super', 'movie', 'neutral']\n",
            "['12,what', 'masterpiece', 'expect', 'sheer', 'boredom', 'instead', 'whole', 'action', 'character', 'evolve', 'villain', 'batman', 'beyond', 'genius', 'joaquin', 'phoenix', 'master', 'perfect', 'consume', 'character', 'place', 'movie', 'story', 'acting', 'direct', 'effects', 'everyone', 'bring', 'definitely', 'deserve', 'comparison', 'nicholson', 'heath', 'ledger', 'actor', 'character', 'different', 'level', 'different', 'story', 'point', 'different', 'point', 'comparison', 'would', 'feasible', 'actor', 'embrace', 'genius', 'everything', 'movie', 'masterful', 'every', 'single', 'joker', 'awesome', 'comic', 'movie', 'awesome', 'movie', 'period', 'offer', 'answer', 'unsettle', 'question', 'raise', 'cruel', 'society', 'decline', 'joaquin', 'phoenix', 'fully', 'commit', 'performance', 'phillips', 'masterful', 'albeit', 'loose', 'reinvention', 'source', 'material', 'joker', 'leave', 'comic', 'nonfans', 'alike', 'disturb', 'move', 'right', 'speechless', 'favorite', 'movie', 'joaquin', 'phoenix', 'give', 'performance', 'think', 'absolutely', 'oscar', 'portrayal', 'iconic', 'character', 'heath', 'ledger', 'still', 'favorite', 'joker', 'joaquin', 'pretty', 'close', 'level', 'ledger', 'phillips', 'phenomenal', 'direct', 'think', 'robert', 'given', 'screen', 'take', 'advantage', 'given', 'shine', 'costume', 'design', 'makeup', 'great', 'think', 'nominate', 'major', 'award', 'script', 'incredible', 'going', 'quote', 'line', 'violence', 'movie', 'compare', 'film', 'amount', 'controversy', 'would', 'minute', 'film', 'medium', 'cause', 'violence', 'dangerous', 'thirty', 'minutes', 'movie', 'absolutely', 'insane', 'forget', 'death', 'scene', 'murray', 'franklin', 'absolutely', 'crazy', 'coming', 'despite', 'arthur', 'fleck', 'joker', 'murderer', 'could', 'character', 'times', 'forgive', 'things', 'sympathize', 'really', 'like', 'progression', 'arthur', 'character', 'slowly', 'growing', 'insane', 'second', 'runtime', 'perfect', 'never', 'boring', 'love', 'movie', 'joaquin', 'phoenix', 'give', 'heath', 'ledger', 'money', 'story', 'popcorn', 'fluff', 'comic', 'flick', 'movie', 'ballot', 'oscar', 'joaquin', 'taking', 'hands', 'origin', 'story', 'downside', 'movie', 'stand', 'alone', 'sequel', 'universe', 'philip', 'joker', 'brilliance', 'joaquin', 'phoenix', 'joker', 'deserve', 'steal', 'heath', 'taste', 'music', 'intense', 'realism', 'performance', 'story', 'perfect', 'combination', 'everything', 'never', 'character', 'joker', 'could', 'phoenix', 'show', 'joker', 'society', 'show', 'power', 'obtain', 'philip', 'perfect', 'choice', 'music', 'camera', 'angle', 'lighting', 'every', 'important', 'factor', 'overall', 'expect', 'story', 'perfect', 'shock', 'turn', 'happen', 'really', 'represent', 'today', 'society', 'first', 'screening', 'would', 'applaud', 'perfect', 'portrait', 'decline', 'insanity', 'positive']\n",
            "['13,amp', 'joaquin', 'phoenix', 'portray', 'flawlessly', 'performance', 'lifetime', 'neutral']\n",
            "['14,choreographed', 'impeccably', 'phillips', 'nothing', 'short', 'breathtaking', 'positive']\n",
            "['15,the', 'cinematography', 'backdrop', 'ideology', 'original', 'complex', 'character', 'compliment', 'superb', 'soundtrack', 'acting', 'hauntingly', 'beautiful', 'definate', 'positive']\n",
            "['16,edit', 'bring', 'plssssss', 'joaquin', 'portrayal', 'sociopathic', 'mentally', 'unstable', 'transformation', 'iconic', 'joker', 'grippingly', 'accurate', 'realistic', 'touching', 'rendition', 'disturb', 'character', 'piece', 'oscar', 'worthy', 'performance', 'joaquin', 'phoenix', 'really', 'make', 'heartbreaking', 'inevitably', 'become', 'clown', 'prince', 'crime', 'although', 'never', 'suffer', 'throughout', 'movie', 'point', 'almost', 'rooting', 'become', 'murder', 'psyco', 'clown', 'least', 'better', 'happen', 'could', 'avoid', 'mess', 'joker', 'could', 'help', 'great', 'greater', 'batman', 'universe', 'movie', 'contain', 'character', 'piece', 'great', 'movie', 'acting', 'great', 'similar', 'driver', 'brilliant', 'quality', 'movie', 'show', 'super', 'power', 'great', 'villain', 'superhero', 'movie', 'everyone', 'movie', 'joker', 'phoenix', 'convince', 'always', 'mean', 'joker', 'movie', 'beyond', 'expectation', 'emotion', 'couple', 'hours', 'think', 'rate', 'phoenix', 'unlock', 'joker', 'psychotic', 'potential', 'character', 'mean', 'amaze', 'story', 'call', 'build', 'second', 'movie', 'maybe', 'batman', 'hope', 'point', 'nevertheless', 'brilliant', 'goddamn', 'movie', 'joker', 'play', 'hands', 'money', 'dignity', 'respect', 'take', 'human', 'money', 'reminder', 'politician', 'frustrate', 'people', 'lower', 'class', 'accept', 'funding', 'champion', 'movie', 'joker', 'begin', 'amaze', 'story', 'brilliant', 'taking', 'magnificent', 'cinematography', 'negative']\n",
            "['17,someone', 'play', 'superhero', 'movie', 'joker', 'movie', 'movie', 'gritty', 'insanely', 'sometime', 'quite', 'disturb', 'people', 'accept', 'show', 'movie', 'terrible', 'reality', 'everyday', 'refuse', 'proper', 'positive']\n",
            "['18,normally', 'people', 'start', 'compare', 'movie', 'greatest', 'knight', 'acting', 'heath', 'ledger', 'potrayal', 'joker', 'neutral']\n",
            "['would', 'movie', 'better', 'otherwise', 'stand', 'amongst', 'greatest', 'godfather', 'driver', 'citizen', 'knight', 'neutral']\n",
            "['20,coming', 'inevitable', 'comparison', 'better', 'joker', 'heath', 'joaquin', 'answer', 'phenomenal', 'joker', 'character', 'fortunate', 'play', 'greatest', 'actor', 'neutral']\n",
            "['21,definitely', 'contender', 'oscar', 'personally', 'think', 'would', 'positive']\n",
            "['22,best', 'actor', 'cinematography', 'original', 'score', 'hollywood', 'lose', 'makeup', 'hairstyling', 'category', 'would', 'definitely', 'joker', 'seriously', 'unbelievable', 'better', 'heath', 'ledger', 'joaquin', 'phoenix', 'oscar', 'actor', 'joker', 'least', 'screenplay', 'big', 'oscar', 'snub', 'positive']\n"
          ],
          "name": "stdout"
        }
      ]
    },
    {
      "cell_type": "code",
      "metadata": {
        "id": "hdF8RfKVSQ3F",
        "colab_type": "code",
        "outputId": "0f915bca-871a-4ab8-a2b0-5d492dab42f1",
        "colab": {
          "base_uri": "https://localhost:8080/",
          "height": 71
        }
      },
      "source": [
        "from gensim import corpora\n",
        "dictionary = corpora.Dictionary(text_data)\n",
        "corpus = [dictionary.doc2bow(text) for text in text_data]\n",
        "\n",
        "import pickle\n",
        "pickle.dump(corpus, open('corpus.pkl', 'wb'))\n",
        "dictionary.save('dictionary.gensim')"
      ],
      "execution_count": 0,
      "outputs": [
        {
          "output_type": "stream",
          "text": [
            "/usr/local/lib/python3.6/dist-packages/smart_open/smart_open_lib.py:253: UserWarning: This function is deprecated, use smart_open.open instead. See the migration notes for details: https://github.com/RaRe-Technologies/smart_open/blob/master/README.rst#migrating-to-the-new-open-function\n",
            "  'See the migration notes for details: %s' % _MIGRATION_NOTES_URL\n"
          ],
          "name": "stderr"
        }
      ]
    },
    {
      "cell_type": "code",
      "metadata": {
        "id": "9dSLicc0Sp2e",
        "colab_type": "code",
        "outputId": "b9e863ca-e53b-4ad3-b9a3-cdf663563882",
        "colab": {
          "base_uri": "https://localhost:8080/",
          "height": 751
        }
      },
      "source": [
        "import gensim\n",
        "NUM_TOPICS = 10\n",
        "ldamodel = gensim.models.ldamodel.LdaModel(corpus, num_topics = NUM_TOPICS, id2word=dictionary, passes=15)\n",
        "ldamodel.save('model10.gensim')\n",
        "topics = ldamodel.print_topics(num_words=4)\n",
        "for topic in topics:\n",
        "    print(topic)"
      ],
      "execution_count": 0,
      "outputs": [
        {
          "output_type": "stream",
          "text": [
            "(0, '0.038*\"oscar\" + 0.038*\"actor\" + 0.038*\"big\" + 0.038*\"original\"')\n",
            "(1, '0.038*\"oscar\" + 0.038*\"joker\" + 0.038*\"positive\" + 0.038*\"original\"')\n",
            "(2, '0.038*\"oscar\" + 0.038*\"joker\" + 0.038*\"positive\" + 0.038*\"original\"')\n",
            "(3, '0.038*\"joker\" + 0.038*\"actor\" + 0.038*\"oscar\" + 0.038*\"positive\"')\n",
            "(4, '0.038*\"original\" + 0.038*\"actor\" + 0.038*\"makeup\" + 0.038*\"positive\"')\n",
            "(5, '0.066*\"joker\" + 0.066*\"oscar\" + 0.066*\"actor\" + 0.035*\"definitely\"')\n",
            "(6, '0.038*\"oscar\" + 0.038*\"joker\" + 0.038*\"positive\" + 0.038*\"original\"')\n",
            "(7, '0.039*\"actor\" + 0.039*\"oscar\" + 0.039*\"joker\" + 0.039*\"big\"')\n",
            "(8, '0.038*\"oscar\" + 0.038*\"actor\" + 0.038*\"makeup\" + 0.038*\"positive\"')\n",
            "(9, '0.038*\"oscar\" + 0.038*\"actor\" + 0.038*\"makeup\" + 0.038*\"positive\"')\n"
          ],
          "name": "stdout"
        },
        {
          "output_type": "stream",
          "text": [
            "/usr/local/lib/python3.6/dist-packages/gensim/models/ldamodel.py:1077: DeprecationWarning: Calling np.sum(generator) is deprecated, and in the future will give a different result. Use np.sum(np.fromiter(generator)) or the python sum builtin instead.\n",
            "  score += np.sum(cnt * logsumexp(Elogthetad + Elogbeta[:, int(id)]) for id, cnt in doc)\n",
            "/usr/local/lib/python3.6/dist-packages/gensim/models/ldamodel.py:1077: DeprecationWarning: Calling np.sum(generator) is deprecated, and in the future will give a different result. Use np.sum(np.fromiter(generator)) or the python sum builtin instead.\n",
            "  score += np.sum(cnt * logsumexp(Elogthetad + Elogbeta[:, int(id)]) for id, cnt in doc)\n",
            "/usr/local/lib/python3.6/dist-packages/gensim/models/ldamodel.py:1077: DeprecationWarning: Calling np.sum(generator) is deprecated, and in the future will give a different result. Use np.sum(np.fromiter(generator)) or the python sum builtin instead.\n",
            "  score += np.sum(cnt * logsumexp(Elogthetad + Elogbeta[:, int(id)]) for id, cnt in doc)\n",
            "/usr/local/lib/python3.6/dist-packages/gensim/models/ldamodel.py:1077: DeprecationWarning: Calling np.sum(generator) is deprecated, and in the future will give a different result. Use np.sum(np.fromiter(generator)) or the python sum builtin instead.\n",
            "  score += np.sum(cnt * logsumexp(Elogthetad + Elogbeta[:, int(id)]) for id, cnt in doc)\n",
            "/usr/local/lib/python3.6/dist-packages/gensim/models/ldamodel.py:1077: DeprecationWarning: Calling np.sum(generator) is deprecated, and in the future will give a different result. Use np.sum(np.fromiter(generator)) or the python sum builtin instead.\n",
            "  score += np.sum(cnt * logsumexp(Elogthetad + Elogbeta[:, int(id)]) for id, cnt in doc)\n",
            "/usr/local/lib/python3.6/dist-packages/gensim/models/ldamodel.py:1077: DeprecationWarning: Calling np.sum(generator) is deprecated, and in the future will give a different result. Use np.sum(np.fromiter(generator)) or the python sum builtin instead.\n",
            "  score += np.sum(cnt * logsumexp(Elogthetad + Elogbeta[:, int(id)]) for id, cnt in doc)\n",
            "/usr/local/lib/python3.6/dist-packages/gensim/models/ldamodel.py:1077: DeprecationWarning: Calling np.sum(generator) is deprecated, and in the future will give a different result. Use np.sum(np.fromiter(generator)) or the python sum builtin instead.\n",
            "  score += np.sum(cnt * logsumexp(Elogthetad + Elogbeta[:, int(id)]) for id, cnt in doc)\n",
            "/usr/local/lib/python3.6/dist-packages/gensim/models/ldamodel.py:1077: DeprecationWarning: Calling np.sum(generator) is deprecated, and in the future will give a different result. Use np.sum(np.fromiter(generator)) or the python sum builtin instead.\n",
            "  score += np.sum(cnt * logsumexp(Elogthetad + Elogbeta[:, int(id)]) for id, cnt in doc)\n",
            "/usr/local/lib/python3.6/dist-packages/gensim/models/ldamodel.py:1077: DeprecationWarning: Calling np.sum(generator) is deprecated, and in the future will give a different result. Use np.sum(np.fromiter(generator)) or the python sum builtin instead.\n",
            "  score += np.sum(cnt * logsumexp(Elogthetad + Elogbeta[:, int(id)]) for id, cnt in doc)\n",
            "/usr/local/lib/python3.6/dist-packages/gensim/models/ldamodel.py:1077: DeprecationWarning: Calling np.sum(generator) is deprecated, and in the future will give a different result. Use np.sum(np.fromiter(generator)) or the python sum builtin instead.\n",
            "  score += np.sum(cnt * logsumexp(Elogthetad + Elogbeta[:, int(id)]) for id, cnt in doc)\n",
            "/usr/local/lib/python3.6/dist-packages/gensim/models/ldamodel.py:1077: DeprecationWarning: Calling np.sum(generator) is deprecated, and in the future will give a different result. Use np.sum(np.fromiter(generator)) or the python sum builtin instead.\n",
            "  score += np.sum(cnt * logsumexp(Elogthetad + Elogbeta[:, int(id)]) for id, cnt in doc)\n",
            "/usr/local/lib/python3.6/dist-packages/gensim/models/ldamodel.py:1077: DeprecationWarning: Calling np.sum(generator) is deprecated, and in the future will give a different result. Use np.sum(np.fromiter(generator)) or the python sum builtin instead.\n",
            "  score += np.sum(cnt * logsumexp(Elogthetad + Elogbeta[:, int(id)]) for id, cnt in doc)\n",
            "/usr/local/lib/python3.6/dist-packages/gensim/models/ldamodel.py:1077: DeprecationWarning: Calling np.sum(generator) is deprecated, and in the future will give a different result. Use np.sum(np.fromiter(generator)) or the python sum builtin instead.\n",
            "  score += np.sum(cnt * logsumexp(Elogthetad + Elogbeta[:, int(id)]) for id, cnt in doc)\n",
            "/usr/local/lib/python3.6/dist-packages/gensim/models/ldamodel.py:1077: DeprecationWarning: Calling np.sum(generator) is deprecated, and in the future will give a different result. Use np.sum(np.fromiter(generator)) or the python sum builtin instead.\n",
            "  score += np.sum(cnt * logsumexp(Elogthetad + Elogbeta[:, int(id)]) for id, cnt in doc)\n",
            "/usr/local/lib/python3.6/dist-packages/gensim/models/ldamodel.py:1077: DeprecationWarning: Calling np.sum(generator) is deprecated, and in the future will give a different result. Use np.sum(np.fromiter(generator)) or the python sum builtin instead.\n",
            "  score += np.sum(cnt * logsumexp(Elogthetad + Elogbeta[:, int(id)]) for id, cnt in doc)\n",
            "/usr/local/lib/python3.6/dist-packages/smart_open/smart_open_lib.py:253: UserWarning: This function is deprecated, use smart_open.open instead. See the migration notes for details: https://github.com/RaRe-Technologies/smart_open/blob/master/README.rst#migrating-to-the-new-open-function\n",
            "  'See the migration notes for details: %s' % _MIGRATION_NOTES_URL\n"
          ],
          "name": "stderr"
        }
      ]
    },
    {
      "cell_type": "code",
      "metadata": {
        "id": "gTfFD4CYVKWh",
        "colab_type": "code",
        "colab": {}
      },
      "source": [
        "pip install pyLDAvis"
      ],
      "execution_count": 0,
      "outputs": []
    },
    {
      "cell_type": "code",
      "metadata": {
        "id": "KPIN3pLAUcKQ",
        "colab_type": "code",
        "outputId": "8bf97435-4b03-46a0-bfee-06107c4ce3f2",
        "colab": {
          "base_uri": "https://localhost:8080/",
          "height": 915
        }
      },
      "source": [
        "lda10 = gensim.models.ldamodel.LdaModel.load('model10.gensim')\n",
        "lda_display10 = pyLDAvis.gensim.prepare(lda10, corpus, dictionary, sort_topics=False)\n",
        "pyLDAvis.display(lda_display10)"
      ],
      "execution_count": 0,
      "outputs": [
        {
          "output_type": "stream",
          "text": [
            "/usr/local/lib/python3.6/dist-packages/smart_open/smart_open_lib.py:253: UserWarning: This function is deprecated, use smart_open.open instead. See the migration notes for details: https://github.com/RaRe-Technologies/smart_open/blob/master/README.rst#migrating-to-the-new-open-function\n",
            "  'See the migration notes for details: %s' % _MIGRATION_NOTES_URL\n"
          ],
          "name": "stderr"
        },
        {
          "output_type": "execute_result",
          "data": {
            "text/html": [
              "\n",
              "<link rel=\"stylesheet\" type=\"text/css\" href=\"https://cdn.rawgit.com/bmabey/pyLDAvis/files/ldavis.v1.0.0.css\">\n",
              "\n",
              "\n",
              "<div id=\"ldavis_el1231407085444520727723902600\"></div>\n",
              "<script type=\"text/javascript\">\n",
              "\n",
              "var ldavis_el1231407085444520727723902600_data = {\"mdsDat\": {\"x\": [0.0006820354596432214, 0.0006820345276090195, 0.000682034527609017, 0.0006820382583993625, 0.000682034527584278, -0.006034465893567665, 0.0006820345276090171, 0.0005781868753011517, 0.0006820335949063002, 0.0006820335949063002], \"y\": [-0.0, 0.0, 0.0, -0.0, -0.0, -0.0, 0.0, 0.0, -0.0, -0.0], \"topics\": [1, 2, 3, 4, 5, 6, 7, 8, 9, 10], \"cluster\": [1, 1, 1, 1, 1, 1, 1, 1, 1, 1], \"Freq\": [0.3333333730697632, 0.3333333730697632, 0.3333333730697632, 0.3333333730697632, 0.3333333730697632, 97.0, 0.3333333730697632, 0.3333333730697632, 0.3333333730697632, 0.3333333730697632]}, \"tinfo\": {\"Term\": [\"joker\", \"oscar\", \"actor\", \"definitely\", \"category\", \"score\", \"unbelievable\", \"hairstyling\", \"ledger\", \"snub\", \"phoenix\", \"hollywood\", \"original\", \"makeup\", \"lose\", \"would\", \"least\", \"cinematography\", \"positive\", \"seriously\", \"joaquin\", \"screenplay\", \"heath\", \"22,best\", \"better\", \"big\", \"big\", \"better\", \"22,best\", \"heath\", \"screenplay\", \"joaquin\", \"seriously\", \"positive\", \"cinematography\", \"least\", \"would\", \"lose\", \"makeup\", \"original\", \"hollywood\", \"phoenix\", \"snub\", \"ledger\", \"hairstyling\", \"unbelievable\", \"score\", \"category\", \"definitely\", \"actor\", \"oscar\", \"joker\", \"big\", \"better\", \"22,best\", \"heath\", \"screenplay\", \"joaquin\", \"seriously\", \"positive\", \"cinematography\", \"least\", \"would\", \"lose\", \"makeup\", \"original\", \"hollywood\", \"phoenix\", \"snub\", \"ledger\", \"hairstyling\", \"unbelievable\", \"score\", \"category\", \"definitely\", \"actor\", \"oscar\", \"joker\", \"big\", \"better\", \"22,best\", \"heath\", \"screenplay\", \"joaquin\", \"seriously\", \"positive\", \"cinematography\", \"least\", \"would\", \"lose\", \"makeup\", \"original\", \"hollywood\", \"phoenix\", \"snub\", \"ledger\", \"hairstyling\", \"unbelievable\", \"score\", \"category\", \"definitely\", \"actor\", \"oscar\", \"joker\", \"big\", \"better\", \"22,best\", \"heath\", \"screenplay\", \"joaquin\", \"seriously\", \"positive\", \"cinematography\", \"least\", \"would\", \"lose\", \"makeup\", \"original\", \"hollywood\", \"phoenix\", \"snub\", \"ledger\", \"hairstyling\", \"unbelievable\", \"score\", \"category\", \"definitely\", \"actor\", \"oscar\", \"joker\", \"big\", \"better\", \"22,best\", \"heath\", \"screenplay\", \"joaquin\", \"seriously\", \"positive\", \"cinematography\", \"least\", \"would\", \"lose\", \"makeup\", \"original\", \"hollywood\", \"phoenix\", \"snub\", \"ledger\", \"hairstyling\", \"unbelievable\", \"score\", \"category\", \"definitely\", \"actor\", \"oscar\", \"joker\", \"joker\", \"oscar\", \"actor\", \"definitely\", \"category\", \"score\", \"unbelievable\", \"hairstyling\", \"ledger\", \"snub\", \"hollywood\", \"phoenix\", \"original\", \"makeup\", \"would\", \"lose\", \"least\", \"cinematography\", \"positive\", \"seriously\", \"joaquin\", \"screenplay\", \"heath\", \"22,best\", \"better\", \"big\", \"big\", \"better\", \"22,best\", \"heath\", \"screenplay\", \"joaquin\", \"seriously\", \"positive\", \"cinematography\", \"least\", \"would\", \"lose\", \"makeup\", \"original\", \"hollywood\", \"phoenix\", \"snub\", \"ledger\", \"hairstyling\", \"unbelievable\", \"score\", \"category\", \"definitely\", \"actor\", \"oscar\", \"joker\", \"big\", \"better\", \"22,best\", \"heath\", \"screenplay\", \"joaquin\", \"seriously\", \"positive\", \"cinematography\", \"least\", \"would\", \"lose\", \"makeup\", \"original\", \"hollywood\", \"phoenix\", \"snub\", \"ledger\", \"hairstyling\", \"unbelievable\", \"score\", \"category\", \"definitely\", \"actor\", \"oscar\", \"joker\", \"big\", \"better\", \"22,best\", \"heath\", \"screenplay\", \"joaquin\", \"seriously\", \"positive\", \"cinematography\", \"least\", \"would\", \"lose\", \"makeup\", \"original\", \"hollywood\", \"phoenix\", \"snub\", \"ledger\", \"hairstyling\", \"unbelievable\", \"score\", \"category\", \"definitely\", \"actor\", \"oscar\", \"joker\", \"big\", \"better\", \"22,best\", \"heath\", \"screenplay\", \"joaquin\", \"seriously\", \"positive\", \"cinematography\", \"least\", \"would\", \"lose\", \"makeup\", \"original\", \"hollywood\", \"phoenix\", \"snub\", \"ledger\", \"hairstyling\", \"unbelievable\", \"score\", \"category\", \"definitely\", \"actor\", \"oscar\", \"joker\"], \"Freq\": [1.0, 1.0, 1.0, 1.0, 1.0, 1.0, 1.0, 1.0, 1.0, 1.0, 1.0, 1.0, 1.0, 1.0, 1.0, 1.0, 1.0, 1.0, 1.0, 1.0, 1.0, 1.0, 1.0, 1.0, 1.0, 1.0, 0.003717949381098151, 0.0037179491482675076, 0.0037179491482675076, 0.0037179491482675076, 0.0037179491482675076, 0.0037179491482675076, 0.0037179491482675076, 0.0037179491482675076, 0.0037179491482675076, 0.0037179491482675076, 0.0037179491482675076, 0.0037179491482675076, 0.0037179491482675076, 0.0037179491482675076, 0.0037179491482675076, 0.0037179491482675076, 0.0037179491482675076, 0.0037179491482675076, 0.0037179491482675076, 0.0037179491482675076, 0.0037179491482675076, 0.0037179491482675076, 0.0037179491482675076, 0.003717949381098151, 0.003717949381098151, 0.0037179491482675076, 0.0037179491482675076, 0.0037179491482675076, 0.0037179491482675076, 0.0037179491482675076, 0.0037179491482675076, 0.0037179491482675076, 0.0037179491482675076, 0.0037179491482675076, 0.0037179491482675076, 0.0037179491482675076, 0.0037179491482675076, 0.0037179491482675076, 0.0037179491482675076, 0.0037179491482675076, 0.0037179491482675076, 0.0037179491482675076, 0.0037179491482675076, 0.0037179491482675076, 0.0037179491482675076, 0.0037179491482675076, 0.0037179491482675076, 0.0037179491482675076, 0.0037179491482675076, 0.0037179491482675076, 0.003717949381098151, 0.003717949381098151, 0.0037179491482675076, 0.0037179491482675076, 0.0037179491482675076, 0.0037179491482675076, 0.0037179491482675076, 0.0037179491482675076, 0.0037179491482675076, 0.0037179491482675076, 0.0037179491482675076, 0.0037179491482675076, 0.0037179491482675076, 0.0037179491482675076, 0.0037179491482675076, 0.0037179491482675076, 0.0037179491482675076, 0.0037179491482675076, 0.0037179491482675076, 0.0037179491482675076, 0.0037179491482675076, 0.0037179491482675076, 0.0037179491482675076, 0.0037179491482675076, 0.0037179491482675076, 0.0037179491482675076, 0.003717949381098151, 0.003717949381098151, 0.0037179491482675076, 0.0037179491482675076, 0.0037179491482675076, 0.0037179491482675076, 0.0037179491482675076, 0.0037179491482675076, 0.0037179491482675076, 0.0037179491482675076, 0.0037179491482675076, 0.0037179491482675076, 0.0037179491482675076, 0.0037179491482675076, 0.0037179491482675076, 0.0037179491482675076, 0.0037179491482675076, 0.0037179491482675076, 0.0037179491482675076, 0.0037179491482675076, 0.0037179491482675076, 0.0037179491482675076, 0.0037179491482675076, 0.0037179491482675076, 0.0037179491482675076, 0.003717949381098151, 0.0037179491482675076, 0.003717949381098151, 0.0037179491482675076, 0.0037179491482675076, 0.0037179491482675076, 0.0037179491482675076, 0.0037179491482675076, 0.0037179491482675076, 0.0037179491482675076, 0.0037179491482675076, 0.0037179491482675076, 0.0037179491482675076, 0.0037179491482675076, 0.0037179491482675076, 0.0037179491482675076, 0.003717949381098151, 0.0037179491482675076, 0.0037179491482675076, 0.0037179491482675076, 0.0037179491482675076, 0.0037179491482675076, 0.0037179491482675076, 0.0037179491482675076, 0.0037179491482675076, 0.0037179491482675076, 0.003717949381098151, 0.0037179491482675076, 0.0037179491482675076, 1.869544267654419, 1.869317650794983, 1.8691858053207397, 0.9793522953987122, 0.9793314933776855, 0.9793210625648499, 0.9793206453323364, 0.9793133735656738, 0.9792892932891846, 0.9792859554290771, 0.9792739152908325, 0.9792745113372803, 0.9792569875717163, 0.9792532324790955, 0.9792160391807556, 0.9792178273200989, 0.9792049527168274, 0.9792014956474304, 0.9791791439056396, 0.9791563153266907, 0.9791549444198608, 0.9791429042816162, 0.9791094660758972, 0.9790676832199097, 0.9790316224098206, 0.9789948463439941, 0.0037179491482675076, 0.0037179491482675076, 0.0037179491482675076, 0.0037179491482675076, 0.0037179491482675076, 0.0037179491482675076, 0.0037179491482675076, 0.0037179491482675076, 0.0037179491482675076, 0.0037179491482675076, 0.0037179491482675076, 0.0037179491482675076, 0.0037179491482675076, 0.0037179491482675076, 0.0037179491482675076, 0.0037179491482675076, 0.0037179491482675076, 0.0037179491482675076, 0.0037179491482675076, 0.0037179491482675076, 0.0037179491482675076, 0.0037179491482675076, 0.0037179491482675076, 0.0037179491482675076, 0.003717949381098151, 0.003717949381098151, 0.0037246255669742823, 0.0037231040187180042, 0.003721603425219655, 0.003719877451658249, 0.003718487685546279, 0.003717981744557619, 0.0037179249338805676, 0.0037169798742979765, 0.003716058563441038, 0.003715911414474249, 0.003715453902259469, 0.0037153803277760744, 0.0037139065098017454, 0.003713750746101141, 0.0037130529526621103, 0.0037130231503397226, 0.0037125530652701855, 0.003712413366883993, 0.0037114133592694998, 0.0037111116107553244, 0.003711095778271556, 0.003710660384967923, 0.003709801472723484, 0.0037436112761497498, 0.003738145576789975, 0.0037287443410605192, 0.0037179491482675076, 0.0037179491482675076, 0.0037179491482675076, 0.0037179491482675076, 0.0037179491482675076, 0.0037179491482675076, 0.0037179491482675076, 0.0037179491482675076, 0.0037179491482675076, 0.0037179491482675076, 0.0037179491482675076, 0.0037179491482675076, 0.0037179491482675076, 0.0037179491482675076, 0.0037179491482675076, 0.0037179491482675076, 0.0037179491482675076, 0.0037179491482675076, 0.0037179491482675076, 0.0037179491482675076, 0.0037179491482675076, 0.0037179491482675076, 0.0037179491482675076, 0.003717949381098151, 0.003717949381098151, 0.0037179491482675076, 0.0037179491482675076, 0.0037179491482675076, 0.0037179491482675076, 0.0037179491482675076, 0.0037179491482675076, 0.0037179491482675076, 0.0037179491482675076, 0.0037179491482675076, 0.0037179491482675076, 0.0037179491482675076, 0.0037179491482675076, 0.0037179491482675076, 0.0037179491482675076, 0.0037179491482675076, 0.0037179491482675076, 0.0037179491482675076, 0.0037179491482675076, 0.0037179491482675076, 0.0037179491482675076, 0.0037179491482675076, 0.0037179491482675076, 0.0037179491482675076, 0.0037179491482675076, 0.003717949381098151, 0.003717949381098151, 0.0037179491482675076], \"Total\": [1.0, 1.0, 1.0, 1.0, 1.0, 1.0, 1.0, 1.0, 1.0, 1.0, 1.0, 1.0, 1.0, 1.0, 1.0, 1.0, 1.0, 1.0, 1.0, 1.0, 1.0, 1.0, 1.0, 1.0, 1.0, 1.0, 1.012462854385376, 1.0124982595443726, 1.0125327110290527, 1.0125728845596313, 1.012604832649231, 1.0126163959503174, 1.0126177072525024, 1.0126395225524902, 1.012661099433899, 1.0126643180847168, 1.0126749277114868, 1.01267671585083, 1.012710690498352, 1.012714147567749, 1.012730360031128, 1.0127309560775757, 1.0127419233322144, 1.0127451419830322, 1.012768268585205, 1.012775182723999, 1.0127756595611572, 1.01278555393219, 1.0128055810928345, 1.9026728868484497, 1.9027992486953735, 1.903016448020935, 1.012462854385376, 1.0124982595443726, 1.0125327110290527, 1.0125728845596313, 1.012604832649231, 1.0126163959503174, 1.0126177072525024, 1.0126395225524902, 1.012661099433899, 1.0126643180847168, 1.0126749277114868, 1.01267671585083, 1.012710690498352, 1.012714147567749, 1.012730360031128, 1.0127309560775757, 1.0127419233322144, 1.0127451419830322, 1.012768268585205, 1.012775182723999, 1.0127756595611572, 1.01278555393219, 1.0128055810928345, 1.9026728868484497, 1.9027992486953735, 1.903016448020935, 1.012462854385376, 1.0124982595443726, 1.0125327110290527, 1.0125728845596313, 1.012604832649231, 1.0126163959503174, 1.0126177072525024, 1.0126395225524902, 1.012661099433899, 1.0126643180847168, 1.0126749277114868, 1.01267671585083, 1.012710690498352, 1.012714147567749, 1.012730360031128, 1.0127309560775757, 1.0127419233322144, 1.0127451419830322, 1.012768268585205, 1.012775182723999, 1.0127756595611572, 1.01278555393219, 1.0128055810928345, 1.9026728868484497, 1.9027992486953735, 1.903016448020935, 1.012462854385376, 1.0124982595443726, 1.0125327110290527, 1.0125728845596313, 1.012604832649231, 1.0126163959503174, 1.0126177072525024, 1.0126395225524902, 1.012661099433899, 1.0126643180847168, 1.0126749277114868, 1.01267671585083, 1.012710690498352, 1.012714147567749, 1.012730360031128, 1.0127309560775757, 1.0127419233322144, 1.0127451419830322, 1.012768268585205, 1.012775182723999, 1.0127756595611572, 1.01278555393219, 1.0128055810928345, 1.9026728868484497, 1.9027992486953735, 1.903016448020935, 1.012462854385376, 1.0124982595443726, 1.0125327110290527, 1.0125728845596313, 1.012604832649231, 1.0126163959503174, 1.0126177072525024, 1.0126395225524902, 1.012661099433899, 1.0126643180847168, 1.0126749277114868, 1.01267671585083, 1.012710690498352, 1.012714147567749, 1.012730360031128, 1.0127309560775757, 1.0127419233322144, 1.0127451419830322, 1.012768268585205, 1.012775182723999, 1.0127756595611572, 1.01278555393219, 1.0128055810928345, 1.9026728868484497, 1.9027992486953735, 1.903016448020935, 1.903016448020935, 1.9027992486953735, 1.9026728868484497, 1.0128055810928345, 1.01278555393219, 1.0127756595611572, 1.012775182723999, 1.012768268585205, 1.0127451419830322, 1.0127419233322144, 1.012730360031128, 1.0127309560775757, 1.012714147567749, 1.012710690498352, 1.0126749277114868, 1.01267671585083, 1.0126643180847168, 1.012661099433899, 1.0126395225524902, 1.0126177072525024, 1.0126163959503174, 1.012604832649231, 1.0125728845596313, 1.0125327110290527, 1.0124982595443726, 1.012462854385376, 1.012462854385376, 1.0124982595443726, 1.0125327110290527, 1.0125728845596313, 1.012604832649231, 1.0126163959503174, 1.0126177072525024, 1.0126395225524902, 1.012661099433899, 1.0126643180847168, 1.0126749277114868, 1.01267671585083, 1.012710690498352, 1.012714147567749, 1.012730360031128, 1.0127309560775757, 1.0127419233322144, 1.0127451419830322, 1.012768268585205, 1.012775182723999, 1.0127756595611572, 1.01278555393219, 1.0128055810928345, 1.9026728868484497, 1.9027992486953735, 1.903016448020935, 1.012462854385376, 1.0124982595443726, 1.0125327110290527, 1.0125728845596313, 1.012604832649231, 1.0126163959503174, 1.0126177072525024, 1.0126395225524902, 1.012661099433899, 1.0126643180847168, 1.0126749277114868, 1.01267671585083, 1.012710690498352, 1.012714147567749, 1.012730360031128, 1.0127309560775757, 1.0127419233322144, 1.0127451419830322, 1.012768268585205, 1.012775182723999, 1.0127756595611572, 1.01278555393219, 1.0128055810928345, 1.9026728868484497, 1.9027992486953735, 1.903016448020935, 1.012462854385376, 1.0124982595443726, 1.0125327110290527, 1.0125728845596313, 1.012604832649231, 1.0126163959503174, 1.0126177072525024, 1.0126395225524902, 1.012661099433899, 1.0126643180847168, 1.0126749277114868, 1.01267671585083, 1.012710690498352, 1.012714147567749, 1.012730360031128, 1.0127309560775757, 1.0127419233322144, 1.0127451419830322, 1.012768268585205, 1.012775182723999, 1.0127756595611572, 1.01278555393219, 1.0128055810928345, 1.9026728868484497, 1.9027992486953735, 1.903016448020935, 1.012462854385376, 1.0124982595443726, 1.0125327110290527, 1.0125728845596313, 1.012604832649231, 1.0126163959503174, 1.0126177072525024, 1.0126395225524902, 1.012661099433899, 1.0126643180847168, 1.0126749277114868, 1.01267671585083, 1.012710690498352, 1.012714147567749, 1.012730360031128, 1.0127309560775757, 1.0127419233322144, 1.0127451419830322, 1.012768268585205, 1.012775182723999, 1.0127756595611572, 1.01278555393219, 1.0128055810928345, 1.9026728868484497, 1.9027992486953735, 1.903016448020935], \"Category\": [\"Default\", \"Default\", \"Default\", \"Default\", \"Default\", \"Default\", \"Default\", \"Default\", \"Default\", \"Default\", \"Default\", \"Default\", \"Default\", \"Default\", \"Default\", \"Default\", \"Default\", \"Default\", \"Default\", \"Default\", \"Default\", \"Default\", \"Default\", \"Default\", \"Default\", \"Default\", \"Topic1\", \"Topic1\", \"Topic1\", \"Topic1\", \"Topic1\", \"Topic1\", \"Topic1\", \"Topic1\", \"Topic1\", \"Topic1\", \"Topic1\", \"Topic1\", \"Topic1\", \"Topic1\", \"Topic1\", \"Topic1\", \"Topic1\", \"Topic1\", \"Topic1\", \"Topic1\", \"Topic1\", \"Topic1\", \"Topic1\", \"Topic1\", \"Topic1\", \"Topic1\", \"Topic2\", \"Topic2\", \"Topic2\", \"Topic2\", \"Topic2\", \"Topic2\", \"Topic2\", \"Topic2\", \"Topic2\", \"Topic2\", \"Topic2\", \"Topic2\", \"Topic2\", \"Topic2\", \"Topic2\", \"Topic2\", \"Topic2\", \"Topic2\", \"Topic2\", \"Topic2\", \"Topic2\", \"Topic2\", \"Topic2\", \"Topic2\", \"Topic2\", \"Topic2\", \"Topic3\", \"Topic3\", \"Topic3\", \"Topic3\", \"Topic3\", \"Topic3\", \"Topic3\", \"Topic3\", \"Topic3\", \"Topic3\", \"Topic3\", \"Topic3\", \"Topic3\", \"Topic3\", \"Topic3\", \"Topic3\", \"Topic3\", \"Topic3\", \"Topic3\", \"Topic3\", \"Topic3\", \"Topic3\", \"Topic3\", \"Topic3\", \"Topic3\", \"Topic3\", \"Topic4\", \"Topic4\", \"Topic4\", \"Topic4\", \"Topic4\", \"Topic4\", \"Topic4\", \"Topic4\", \"Topic4\", \"Topic4\", \"Topic4\", \"Topic4\", \"Topic4\", \"Topic4\", \"Topic4\", \"Topic4\", \"Topic4\", \"Topic4\", \"Topic4\", \"Topic4\", \"Topic4\", \"Topic4\", \"Topic4\", \"Topic4\", \"Topic4\", \"Topic4\", \"Topic5\", \"Topic5\", \"Topic5\", \"Topic5\", \"Topic5\", \"Topic5\", \"Topic5\", \"Topic5\", \"Topic5\", \"Topic5\", \"Topic5\", \"Topic5\", \"Topic5\", \"Topic5\", \"Topic5\", \"Topic5\", \"Topic5\", \"Topic5\", \"Topic5\", \"Topic5\", \"Topic5\", \"Topic5\", \"Topic5\", \"Topic5\", \"Topic5\", \"Topic5\", \"Topic6\", \"Topic6\", \"Topic6\", \"Topic6\", \"Topic6\", \"Topic6\", \"Topic6\", \"Topic6\", \"Topic6\", \"Topic6\", \"Topic6\", \"Topic6\", \"Topic6\", \"Topic6\", \"Topic6\", \"Topic6\", \"Topic6\", \"Topic6\", \"Topic6\", \"Topic6\", \"Topic6\", \"Topic6\", \"Topic6\", \"Topic6\", \"Topic6\", \"Topic6\", \"Topic7\", \"Topic7\", \"Topic7\", \"Topic7\", \"Topic7\", \"Topic7\", \"Topic7\", \"Topic7\", \"Topic7\", \"Topic7\", \"Topic7\", \"Topic7\", \"Topic7\", \"Topic7\", \"Topic7\", \"Topic7\", \"Topic7\", \"Topic7\", \"Topic7\", \"Topic7\", \"Topic7\", \"Topic7\", \"Topic7\", \"Topic7\", \"Topic7\", \"Topic7\", \"Topic8\", \"Topic8\", \"Topic8\", \"Topic8\", \"Topic8\", \"Topic8\", \"Topic8\", \"Topic8\", \"Topic8\", \"Topic8\", \"Topic8\", \"Topic8\", \"Topic8\", \"Topic8\", \"Topic8\", \"Topic8\", \"Topic8\", \"Topic8\", \"Topic8\", \"Topic8\", \"Topic8\", \"Topic8\", \"Topic8\", \"Topic8\", \"Topic8\", \"Topic8\", \"Topic9\", \"Topic9\", \"Topic9\", \"Topic9\", \"Topic9\", \"Topic9\", \"Topic9\", \"Topic9\", \"Topic9\", \"Topic9\", \"Topic9\", \"Topic9\", \"Topic9\", \"Topic9\", \"Topic9\", \"Topic9\", \"Topic9\", \"Topic9\", \"Topic9\", \"Topic9\", \"Topic9\", \"Topic9\", \"Topic9\", \"Topic9\", \"Topic9\", \"Topic9\", \"Topic10\", \"Topic10\", \"Topic10\", \"Topic10\", \"Topic10\", \"Topic10\", \"Topic10\", \"Topic10\", \"Topic10\", \"Topic10\", \"Topic10\", \"Topic10\", \"Topic10\", \"Topic10\", \"Topic10\", \"Topic10\", \"Topic10\", \"Topic10\", \"Topic10\", \"Topic10\", \"Topic10\", \"Topic10\", \"Topic10\", \"Topic10\", \"Topic10\", \"Topic10\"], \"logprob\": [26.0, 25.0, 24.0, 23.0, 22.0, 21.0, 20.0, 19.0, 18.0, 17.0, 16.0, 15.0, 14.0, 13.0, 12.0, 11.0, 10.0, 9.0, 8.0, 7.0, 6.0, 5.0, 4.0, 3.0, 2.0, 1.0, -3.2581000328063965, -3.2581000328063965, -3.2581000328063965, -3.2581000328063965, -3.2581000328063965, -3.2581000328063965, -3.2581000328063965, -3.2581000328063965, -3.2581000328063965, -3.2581000328063965, -3.2581000328063965, -3.2581000328063965, -3.2581000328063965, -3.2581000328063965, -3.2581000328063965, -3.2581000328063965, -3.2581000328063965, -3.2581000328063965, -3.2581000328063965, -3.2581000328063965, -3.2581000328063965, -3.2581000328063965, -3.2581000328063965, -3.2581000328063965, -3.2581000328063965, -3.2581000328063965, -3.2581000328063965, -3.2581000328063965, -3.2581000328063965, -3.2581000328063965, -3.2581000328063965, -3.2581000328063965, -3.2581000328063965, -3.2581000328063965, -3.2581000328063965, -3.2581000328063965, -3.2581000328063965, -3.2581000328063965, -3.2581000328063965, -3.2581000328063965, -3.2581000328063965, -3.2581000328063965, -3.2581000328063965, -3.2581000328063965, -3.2581000328063965, -3.2581000328063965, -3.2581000328063965, -3.2581000328063965, -3.2581000328063965, -3.2581000328063965, -3.2581000328063965, -3.2581000328063965, -3.2581000328063965, -3.2581000328063965, -3.2581000328063965, -3.2581000328063965, -3.2581000328063965, -3.2581000328063965, -3.2581000328063965, -3.2581000328063965, -3.2581000328063965, -3.2581000328063965, -3.2581000328063965, -3.2581000328063965, -3.2581000328063965, -3.2581000328063965, -3.2581000328063965, -3.2581000328063965, -3.2581000328063965, -3.2581000328063965, -3.2581000328063965, -3.2581000328063965, -3.2581000328063965, -3.2581000328063965, -3.2581000328063965, -3.2581000328063965, -3.2581000328063965, -3.2581000328063965, -3.2581000328063965, -3.2581000328063965, -3.2581000328063965, -3.2581000328063965, -3.2581000328063965, -3.2581000328063965, -3.2581000328063965, -3.2581000328063965, -3.2581000328063965, -3.2581000328063965, -3.2581000328063965, -3.2581000328063965, -3.2581000328063965, -3.2581000328063965, -3.2581000328063965, -3.2581000328063965, -3.2581000328063965, -3.2581000328063965, -3.2581000328063965, -3.2581000328063965, -3.2581000328063965, -3.2581000328063965, -3.2581000328063965, -3.2581000328063965, -3.2581000328063965, -3.2581000328063965, -3.2581000328063965, -3.2581000328063965, -3.2581000328063965, -3.2581000328063965, -3.2581000328063965, -3.2581000328063965, -3.2581000328063965, -3.2581000328063965, -3.2581000328063965, -3.2581000328063965, -3.2581000328063965, -3.2581000328063965, -3.2581000328063965, -3.2581000328063965, -3.2581000328063965, -3.2581000328063965, -3.2581000328063965, -3.2581000328063965, -3.2581000328063965, -3.2581000328063965, -3.2581000328063965, -3.2581000328063965, -3.2581000328063965, -3.2581000328063965, -3.2581000328063965, -3.2581000328063965, -2.7111001014709473, -2.7112998962402344, -2.7112998962402344, -3.3577001094818115, -3.3577001094818115, -3.3577001094818115, -3.3577001094818115, -3.3577001094818115, -3.357800006866455, -3.357800006866455, -3.357800006866455, -3.357800006866455, -3.357800006866455, -3.357800006866455, -3.357800006866455, -3.357800006866455, -3.3578999042510986, -3.3578999042510986, -3.3578999042510986, -3.3578999042510986, -3.3578999042510986, -3.3578999042510986, -3.3578999042510986, -3.3580000400543213, -3.3580000400543213, -3.358099937438965, -3.2581000328063965, -3.2581000328063965, -3.2581000328063965, -3.2581000328063965, -3.2581000328063965, -3.2581000328063965, -3.2581000328063965, -3.2581000328063965, -3.2581000328063965, -3.2581000328063965, -3.2581000328063965, -3.2581000328063965, -3.2581000328063965, -3.2581000328063965, -3.2581000328063965, -3.2581000328063965, -3.2581000328063965, -3.2581000328063965, -3.2581000328063965, -3.2581000328063965, -3.2581000328063965, -3.2581000328063965, -3.2581000328063965, -3.2581000328063965, -3.2581000328063965, -3.2581000328063965, -3.2562999725341797, -3.256700038909912, -3.2571001052856445, -3.2576000690460205, -3.257999897003174, -3.2581000328063965, -3.2581000328063965, -3.2583999633789062, -3.2585999965667725, -3.2585999965667725, -3.2588000297546387, -3.2588000297546387, -3.259200096130371, -3.259200096130371, -3.259399890899658, -3.259399890899658, -3.259500026702881, -3.2595999240875244, -3.2599000930786133, -3.2599000930786133, -3.2599000930786133, -3.2600998878479004, -3.2602999210357666, -3.251199960708618, -3.252700090408325, -3.255199909210205, -3.2581000328063965, -3.2581000328063965, -3.2581000328063965, -3.2581000328063965, -3.2581000328063965, -3.2581000328063965, -3.2581000328063965, -3.2581000328063965, -3.2581000328063965, -3.2581000328063965, -3.2581000328063965, -3.2581000328063965, -3.2581000328063965, -3.2581000328063965, -3.2581000328063965, -3.2581000328063965, -3.2581000328063965, -3.2581000328063965, -3.2581000328063965, -3.2581000328063965, -3.2581000328063965, -3.2581000328063965, -3.2581000328063965, -3.2581000328063965, -3.2581000328063965, -3.2581000328063965, -3.2581000328063965, -3.2581000328063965, -3.2581000328063965, -3.2581000328063965, -3.2581000328063965, -3.2581000328063965, -3.2581000328063965, -3.2581000328063965, -3.2581000328063965, -3.2581000328063965, -3.2581000328063965, -3.2581000328063965, -3.2581000328063965, -3.2581000328063965, -3.2581000328063965, -3.2581000328063965, -3.2581000328063965, -3.2581000328063965, -3.2581000328063965, -3.2581000328063965, -3.2581000328063965, -3.2581000328063965, -3.2581000328063965, -3.2581000328063965, -3.2581000328063965, -3.2581000328063965], \"loglift\": [26.0, 25.0, 24.0, 23.0, 22.0, 21.0, 20.0, 19.0, 18.0, 17.0, 16.0, 15.0, 14.0, 13.0, 12.0, 11.0, 10.0, 9.0, 8.0, 7.0, 6.0, 5.0, 4.0, 3.0, 2.0, 1.0, 0.09679999947547913, 0.09679999947547913, 0.09669999778270721, 0.09669999778270721, 0.09669999778270721, 0.09669999778270721, 0.09669999778270721, 0.0966000035405159, 0.0966000035405159, 0.0966000035405159, 0.0966000035405159, 0.0966000035405159, 0.0966000035405159, 0.0966000035405159, 0.09650000184774399, 0.09650000184774399, 0.09650000184774399, 0.09650000184774399, 0.09650000184774399, 0.09650000184774399, 0.09650000184774399, 0.09650000184774399, 0.09650000184774399, -0.5340999960899353, -0.5340999960899353, -0.5342000126838684, 0.09679999947547913, 0.09679999947547913, 0.09669999778270721, 0.09669999778270721, 0.09669999778270721, 0.09669999778270721, 0.09669999778270721, 0.0966000035405159, 0.0966000035405159, 0.0966000035405159, 0.0966000035405159, 0.0966000035405159, 0.0966000035405159, 0.0966000035405159, 0.09650000184774399, 0.09650000184774399, 0.09650000184774399, 0.09650000184774399, 0.09650000184774399, 0.09650000184774399, 0.09650000184774399, 0.09650000184774399, 0.09650000184774399, -0.5340999960899353, -0.5340999960899353, -0.5342000126838684, 0.09679999947547913, 0.09679999947547913, 0.09669999778270721, 0.09669999778270721, 0.09669999778270721, 0.09669999778270721, 0.09669999778270721, 0.0966000035405159, 0.0966000035405159, 0.0966000035405159, 0.0966000035405159, 0.0966000035405159, 0.0966000035405159, 0.0966000035405159, 0.09650000184774399, 0.09650000184774399, 0.09650000184774399, 0.09650000184774399, 0.09650000184774399, 0.09650000184774399, 0.09650000184774399, 0.09650000184774399, 0.09650000184774399, -0.5340999960899353, -0.5340999960899353, -0.5342000126838684, 0.09679999947547913, 0.09679999947547913, 0.09669999778270721, 0.09669999778270721, 0.09669999778270721, 0.09669999778270721, 0.09669999778270721, 0.0966000035405159, 0.0966000035405159, 0.0966000035405159, 0.0966000035405159, 0.0966000035405159, 0.0966000035405159, 0.0966000035405159, 0.09650000184774399, 0.09650000184774399, 0.09650000184774399, 0.09650000184774399, 0.09650000184774399, 0.09650000184774399, 0.09650000184774399, 0.09650000184774399, 0.09650000184774399, -0.5340999960899353, -0.5340999960899353, -0.5342000126838684, 0.09679999947547913, 0.09679999947547913, 0.09669999778270721, 0.09669999778270721, 0.09669999778270721, 0.09669999778270721, 0.09669999778270721, 0.0966000035405159, 0.0966000035405159, 0.0966000035405159, 0.0966000035405159, 0.0966000035405159, 0.0966000035405159, 0.0966000035405159, 0.09650000184774399, 0.09650000184774399, 0.09650000184774399, 0.09650000184774399, 0.09650000184774399, 0.09650000184774399, 0.09650000184774399, 0.09650000184774399, 0.09650000184774399, -0.5340999960899353, -0.5340999960899353, -0.5342000126838684, 0.01269999984651804, 0.01269999984651804, 0.01269999984651804, -0.003100000089034438, -0.003100000089034438, -0.003100000089034438, -0.003100000089034438, -0.003100000089034438, -0.003100000089034438, -0.003100000089034438, -0.003100000089034438, -0.003100000089034438, -0.003100000089034438, -0.003100000089034438, -0.003100000089034438, -0.003100000089034438, -0.003100000089034438, -0.003100000089034438, -0.003100000089034438, -0.003100000089034438, -0.003100000089034438, -0.003100000089034438, -0.003100000089034438, -0.0031999999191612005, -0.0031999999191612005, -0.0031999999191612005, 0.09679999947547913, 0.09679999947547913, 0.09669999778270721, 0.09669999778270721, 0.09669999778270721, 0.09669999778270721, 0.09669999778270721, 0.0966000035405159, 0.0966000035405159, 0.0966000035405159, 0.0966000035405159, 0.0966000035405159, 0.0966000035405159, 0.0966000035405159, 0.09650000184774399, 0.09650000184774399, 0.09650000184774399, 0.09650000184774399, 0.09650000184774399, 0.09650000184774399, 0.09650000184774399, 0.09650000184774399, 0.09650000184774399, -0.5340999960899353, -0.5340999960899353, -0.5342000126838684, 0.09860000014305115, 0.0982000008225441, 0.09769999980926514, 0.09719999879598618, 0.09679999947547913, 0.09669999778270721, 0.09669999778270721, 0.09640000015497208, 0.09610000252723694, 0.09610000252723694, 0.09589999914169312, 0.09589999914169312, 0.09549999982118607, 0.09539999812841415, 0.09520000219345093, 0.09520000219345093, 0.09510000050067902, 0.0949999988079071, 0.09480000287294388, 0.09470000118017197, 0.09470000118017197, 0.09449999779462814, 0.09430000185966492, -0.5271999835968018, -0.5286999940872192, -0.5313000082969666, 0.09679999947547913, 0.09679999947547913, 0.09669999778270721, 0.09669999778270721, 0.09669999778270721, 0.09669999778270721, 0.09669999778270721, 0.0966000035405159, 0.0966000035405159, 0.0966000035405159, 0.0966000035405159, 0.0966000035405159, 0.0966000035405159, 0.0966000035405159, 0.09650000184774399, 0.09650000184774399, 0.09650000184774399, 0.09650000184774399, 0.09650000184774399, 0.09650000184774399, 0.09650000184774399, 0.09650000184774399, 0.09650000184774399, -0.5340999960899353, -0.5340999960899353, -0.5342000126838684, 0.09679999947547913, 0.09679999947547913, 0.09669999778270721, 0.09669999778270721, 0.09669999778270721, 0.09669999778270721, 0.09669999778270721, 0.0966000035405159, 0.0966000035405159, 0.0966000035405159, 0.0966000035405159, 0.0966000035405159, 0.0966000035405159, 0.0966000035405159, 0.09650000184774399, 0.09650000184774399, 0.09650000184774399, 0.09650000184774399, 0.09650000184774399, 0.09650000184774399, 0.09650000184774399, 0.09650000184774399, 0.09650000184774399, -0.5340999960899353, -0.5340999960899353, -0.5342000126838684]}, \"token.table\": {\"Topic\": [6, 6, 6, 6, 6, 6, 6, 6, 6, 6, 6, 6, 6, 6, 6, 6, 6, 6, 6, 6, 6, 6, 6, 6, 6, 6], \"Freq\": [0.9876224398612976, 1.0511528253555298, 0.9876559972763062, 0.9876905679702759, 0.9873758554458618, 0.9874972105026245, 0.9873563051223755, 0.9873927235603333, 0.9875832200050354, 0.987429678440094, 0.9875407814979553, 1.050963044166565, 0.9874940514564514, 0.9874152541160583, 0.987481951713562, 0.9874488711357117, 0.9874454736709595, 1.0510830879211426, 0.9874290823936462, 0.9875182509422302, 0.9873855113983154, 0.9875520467758179, 0.987539529800415, 0.9874184131622314, 0.9873859882354736, 0.9874837398529053], \"Term\": [\"22,best\", \"actor\", \"better\", \"big\", \"category\", \"cinematography\", \"definitely\", \"hairstyling\", \"heath\", \"hollywood\", \"joaquin\", \"joker\", \"least\", \"ledger\", \"lose\", \"makeup\", \"original\", \"oscar\", \"phoenix\", \"positive\", \"score\", \"screenplay\", \"seriously\", \"snub\", \"unbelievable\", \"would\"]}, \"R\": 26, \"lambda.step\": 0.01, \"plot.opts\": {\"xlab\": \"PC1\", \"ylab\": \"PC2\"}, \"topic.order\": [1, 2, 3, 4, 5, 6, 7, 8, 9, 10]};\n",
              "\n",
              "function LDAvis_load_lib(url, callback){\n",
              "  var s = document.createElement('script');\n",
              "  s.src = url;\n",
              "  s.async = true;\n",
              "  s.onreadystatechange = s.onload = callback;\n",
              "  s.onerror = function(){console.warn(\"failed to load library \" + url);};\n",
              "  document.getElementsByTagName(\"head\")[0].appendChild(s);\n",
              "}\n",
              "\n",
              "if(typeof(LDAvis) !== \"undefined\"){\n",
              "   // already loaded: just create the visualization\n",
              "   !function(LDAvis){\n",
              "       new LDAvis(\"#\" + \"ldavis_el1231407085444520727723902600\", ldavis_el1231407085444520727723902600_data);\n",
              "   }(LDAvis);\n",
              "}else if(typeof define === \"function\" && define.amd){\n",
              "   // require.js is available: use it to load d3/LDAvis\n",
              "   require.config({paths: {d3: \"https://cdnjs.cloudflare.com/ajax/libs/d3/3.5.5/d3.min\"}});\n",
              "   require([\"d3\"], function(d3){\n",
              "      window.d3 = d3;\n",
              "      LDAvis_load_lib(\"https://cdn.rawgit.com/bmabey/pyLDAvis/files/ldavis.v1.0.0.js\", function(){\n",
              "        new LDAvis(\"#\" + \"ldavis_el1231407085444520727723902600\", ldavis_el1231407085444520727723902600_data);\n",
              "      });\n",
              "    });\n",
              "}else{\n",
              "    // require.js not available: dynamically load d3 & LDAvis\n",
              "    LDAvis_load_lib(\"https://cdnjs.cloudflare.com/ajax/libs/d3/3.5.5/d3.min.js\", function(){\n",
              "         LDAvis_load_lib(\"https://cdn.rawgit.com/bmabey/pyLDAvis/files/ldavis.v1.0.0.js\", function(){\n",
              "                 new LDAvis(\"#\" + \"ldavis_el1231407085444520727723902600\", ldavis_el1231407085444520727723902600_data);\n",
              "            })\n",
              "         });\n",
              "}\n",
              "</script>"
            ],
            "text/plain": [
              "<IPython.core.display.HTML object>"
            ]
          },
          "metadata": {
            "tags": []
          },
          "execution_count": 105
        }
      ]
    },
    {
      "cell_type": "markdown",
      "metadata": {
        "id": "OS3x65enX2ck",
        "colab_type": "text"
      },
      "source": [
        "The distance between topics shows the semantic relationship between them. The closer the are to each other, the more seematically related they are. "
      ]
    },
    {
      "cell_type": "markdown",
      "metadata": {
        "id": "N2Pu95UxAWDX",
        "colab_type": "text"
      },
      "source": [
        "#**Question 2: Sentiment Analysis**\n",
        "\n",
        "(30 points). Sentiment analysis also known as opinion mining is a sub field within Natural Language Processing (NLP) that builds machine learning algorithms to classify a text according to the sentimental polarities of opinions it contains, e.g., positive, negative, neutral. The purpose of this question is to develop a machine learning classifier for sentiment analysis. Based on the dataset from assignment three, write a python program to implement a sentiment classifier and evaluate its performance. Notice: 80% data for training and 20% data for testing.\n",
        "\n",
        "(1) Features used for sentiment classification and explain why you select these features.\n",
        "\n",
        "(2) Select two of the supervised learning algorithm from scikit-learn library: https://scikit-learn.org/stable/supervised_learning.html#supervised-learning, to build a sentiment classifier respectively.\n",
        "\n",
        "(3) Compare the performance over accuracy, precision, recall, and F1 score for the two algorithms you selected. Here is the reference of how to calculate these metrics: https://towardsdatascience.com/accuracy-precision-recall-or-f1-331fb37c5cb9.\n"
      ]
    },
    {
      "cell_type": "code",
      "metadata": {
        "id": "QZpnWBWtYNzH",
        "colab_type": "code",
        "colab": {}
      },
      "source": [
        "#source: https://monkeylearn.com/text-analysis/\n",
        "\n",
        "import pandas as pd\n",
        "import nltk\n",
        "from sklearn.feature_extraction.text import TfidfVectorizer\n",
        "reviews = pd.read_csv(\"Assignment4_data.csv\")\n",
        "\n",
        "\n",
        "#the set contains reviews only, column 2 has the content, column 3 has the sentiment. \n",
        "#pandas columns follow zero-based indexing scheme where the first column is called 0th \n",
        "content = reviews.iloc[:, 1].values\n",
        "labels = reviews.iloc[:, 2].values"
      ],
      "execution_count": 0,
      "outputs": []
    },
    {
      "cell_type": "code",
      "metadata": {
        "id": "RbhCqdH54754",
        "colab_type": "code",
        "colab": {}
      },
      "source": [
        "vectorizer = TfidfVectorizer()\n",
        "vectorized_reviews = vectorizer.fit_transform(content)"
      ],
      "execution_count": 0,
      "outputs": []
    },
    {
      "cell_type": "code",
      "metadata": {
        "id": "sizvEnpQ47v4",
        "colab_type": "code",
        "colab": {}
      },
      "source": [
        "from sklearn.model_selection import train_test_split\n",
        "\n",
        "x_train, x_test, y_train, y_test = train_test_split(vectorized_reviews, labels, test_size=0.2, random_state=0)"
      ],
      "execution_count": 0,
      "outputs": []
    },
    {
      "cell_type": "code",
      "metadata": {
        "id": "gZyuydAO7rRX",
        "colab_type": "code",
        "colab": {
          "base_uri": "https://localhost:8080/",
          "height": 377
        },
        "outputId": "6bfcf36f-7f05-4a99-f944-8dd73a3ab266"
      },
      "source": [
        "#Method 1: Random Forest algorithm because of its ability to act upon non-normalized data.\n",
        "#source: https://stackabuse.com/python-for-nlp-sentiment-analysis-with-scikit-learn/\n",
        "from sklearn.ensemble import RandomForestClassifier\n",
        "\n",
        "text_classifier = RandomForestClassifier(n_estimators=200, random_state=0)\n",
        "text_classifier.fit(x_train, y_train)\n",
        "\n",
        "predictions = text_classifier.predict(x_test)\n",
        "\n",
        "from sklearn.metrics import classification_report, confusion_matrix, accuracy_score\n",
        "\n",
        "print(confusion_matrix(y_test,predictions))\n",
        "print(classification_report(y_test,predictions))\n",
        "print(accuracy_score(y_test, predictions))"
      ],
      "execution_count": 91,
      "outputs": [
        {
          "output_type": "stream",
          "text": [
            "[[0 1 0 0]\n",
            " [0 0 0 0]\n",
            " [0 1 0 0]\n",
            " [0 2 0 1]]\n",
            "              precision    recall  f1-score   support\n",
            "\n",
            "     Neutral       0.00      0.00      0.00         1\n",
            "    Positive       0.00      0.00      0.00         0\n",
            "     neutral       0.00      0.00      0.00         1\n",
            "    positive       1.00      0.33      0.50         3\n",
            "\n",
            "    accuracy                           0.20         5\n",
            "   macro avg       0.25      0.08      0.12         5\n",
            "weighted avg       0.60      0.20      0.30         5\n",
            "\n",
            "0.2\n"
          ],
          "name": "stdout"
        },
        {
          "output_type": "stream",
          "text": [
            "/usr/local/lib/python3.6/dist-packages/sklearn/metrics/_classification.py:1272: UndefinedMetricWarning: Precision and F-score are ill-defined and being set to 0.0 in labels with no predicted samples. Use `zero_division` parameter to control this behavior.\n",
            "  _warn_prf(average, modifier, msg_start, len(result))\n",
            "/usr/local/lib/python3.6/dist-packages/sklearn/metrics/_classification.py:1272: UndefinedMetricWarning: Recall and F-score are ill-defined and being set to 0.0 in labels with no true samples. Use `zero_division` parameter to control this behavior.\n",
            "  _warn_prf(average, modifier, msg_start, len(result))\n"
          ],
          "name": "stderr"
        }
      ]
    },
    {
      "cell_type": "code",
      "metadata": {
        "id": "ZFEvxJ178WXB",
        "colab_type": "code",
        "colab": {
          "base_uri": "https://localhost:8080/",
          "height": 34
        },
        "outputId": "c3d30761-3705-49ac-b66f-12d2af2f2b41"
      },
      "source": [
        "#Method 2 Logistic regression  uses a logistic function to model a binary variable based on any kind of independent variables\n",
        "\n",
        "from sklearn.linear_model import LogisticRegression\n",
        "\n",
        "LR = LogisticRegression(random_state=0, solver='lbfgs', multi_class='multinomial').fit(x_train, y_train)\n",
        "LR.predict(X_test)\n",
        "round(LR.score(X_test,y_test), 4)"
      ],
      "execution_count": 95,
      "outputs": [
        {
          "output_type": "execute_result",
          "data": {
            "text/plain": [
              "0.6"
            ]
          },
          "metadata": {
            "tags": []
          },
          "execution_count": 95
        }
      ]
    },
    {
      "cell_type": "code",
      "metadata": {
        "id": "6mvd4LGd-FPe",
        "colab_type": "code",
        "colab": {
          "base_uri": "https://localhost:8080/",
          "height": 34
        },
        "outputId": "c5b75608-8121-414f-fe91-e14c0df2cb0a"
      },
      "source": [
        "#Method 3 Support vector machines is flexible - they can do linear classification, but can use other non-linear basis functions. \n",
        "from sklearn import svm\n",
        "SVM = svm.SVC(decision_function_shape=\"ovo\").fit(x_train, y_train)\n",
        "SVM.predict(X_test)\n",
        "round(SVM.score(X_test, y_test), 4)"
      ],
      "execution_count": 93,
      "outputs": [
        {
          "output_type": "execute_result",
          "data": {
            "text/plain": [
              "0.6"
            ]
          },
          "metadata": {
            "tags": []
          },
          "execution_count": 93
        }
      ]
    },
    {
      "cell_type": "markdown",
      "metadata": {
        "id": "DWLDuU5jAjtL",
        "colab_type": "text"
      },
      "source": [
        "# **Question 3: House price prediction**\n",
        "\n",
        "(40 points). You are required to build a **regression** model to predict the house price with 79 explanatory variables describing (almost) every aspect of residential homes. The purpose of this question is to practice regression analysis, an supervised learning model. The training data, testing data, and data description files can be download here: https://github.com/unt-iialab/INFO5731_Spring2020/blob/master/Assignments/assignment4-question3-data.zip. Here is an axample for implementation: https://towardsdatascience.com/linear-regression-in-python-predict-the-bay-areas-home-price-5c91c8378878. \n"
      ]
    },
    {
      "cell_type": "code",
      "metadata": {
        "id": "j1eJsf8oSWhK",
        "colab_type": "code",
        "colab": {}
      },
      "source": [
        "import pandas as pd\n",
        "import numpy as np\n",
        "import seaborn as sns\n",
        "import matplotlib.pyplot as plt\n",
        "%matplotlib inline\n",
        "from sklearn.linear_model import LinearRegression\n",
        "from sklearn.model_selection import train_test_split, cross_val_score\n",
        "from sklearn.metrics import mean_squared_error"
      ],
      "execution_count": 0,
      "outputs": []
    },
    {
      "cell_type": "code",
      "metadata": {
        "id": "zpJR6DiMSfTW",
        "colab_type": "code",
        "colab": {}
      },
      "source": [
        "houses_train = pd.read_csv(\"train.csv\")\n",
        "houses_train.head()\n",
        "\n",
        "houses_test = pd.read_csv(\"test.csv\")\n",
        "houses_test.head()\n"
      ],
      "execution_count": 0,
      "outputs": []
    },
    {
      "cell_type": "code",
      "metadata": {
        "id": "kwJekSWtgdXW",
        "colab_type": "code",
        "colab": {
          "base_uri": "https://localhost:8080/",
          "height": 317
        },
        "outputId": "d6983b5d-efb0-4852-8fcb-5334877b28c7"
      },
      "source": [
        "houses_train.describe() #summary statistics of numeric variables"
      ],
      "execution_count": 60,
      "outputs": [
        {
          "output_type": "execute_result",
          "data": {
            "text/html": [
              "<div>\n",
              "<style scoped>\n",
              "    .dataframe tbody tr th:only-of-type {\n",
              "        vertical-align: middle;\n",
              "    }\n",
              "\n",
              "    .dataframe tbody tr th {\n",
              "        vertical-align: top;\n",
              "    }\n",
              "\n",
              "    .dataframe thead th {\n",
              "        text-align: right;\n",
              "    }\n",
              "</style>\n",
              "<table border=\"1\" class=\"dataframe\">\n",
              "  <thead>\n",
              "    <tr style=\"text-align: right;\">\n",
              "      <th></th>\n",
              "      <th>Id</th>\n",
              "      <th>MSSubClass</th>\n",
              "      <th>LotFrontage</th>\n",
              "      <th>LotArea</th>\n",
              "      <th>OverallQual</th>\n",
              "      <th>OverallCond</th>\n",
              "      <th>YearBuilt</th>\n",
              "      <th>YearRemodAdd</th>\n",
              "      <th>MasVnrArea</th>\n",
              "      <th>BsmtFinSF1</th>\n",
              "      <th>BsmtFinSF2</th>\n",
              "      <th>BsmtUnfSF</th>\n",
              "      <th>TotalBsmtSF</th>\n",
              "      <th>1stFlrSF</th>\n",
              "      <th>2ndFlrSF</th>\n",
              "      <th>LowQualFinSF</th>\n",
              "      <th>GrLivArea</th>\n",
              "      <th>BsmtFullBath</th>\n",
              "      <th>BsmtHalfBath</th>\n",
              "      <th>FullBath</th>\n",
              "      <th>HalfBath</th>\n",
              "      <th>BedroomAbvGr</th>\n",
              "      <th>KitchenAbvGr</th>\n",
              "      <th>TotRmsAbvGrd</th>\n",
              "      <th>Fireplaces</th>\n",
              "      <th>GarageYrBlt</th>\n",
              "      <th>GarageCars</th>\n",
              "      <th>GarageArea</th>\n",
              "      <th>WoodDeckSF</th>\n",
              "      <th>OpenPorchSF</th>\n",
              "      <th>EnclosedPorch</th>\n",
              "      <th>3SsnPorch</th>\n",
              "      <th>ScreenPorch</th>\n",
              "      <th>PoolArea</th>\n",
              "      <th>MiscVal</th>\n",
              "      <th>MoSold</th>\n",
              "      <th>YrSold</th>\n",
              "      <th>SalePrice</th>\n",
              "    </tr>\n",
              "  </thead>\n",
              "  <tbody>\n",
              "    <tr>\n",
              "      <th>count</th>\n",
              "      <td>1460.000000</td>\n",
              "      <td>1460.000000</td>\n",
              "      <td>1201.000000</td>\n",
              "      <td>1460.000000</td>\n",
              "      <td>1460.000000</td>\n",
              "      <td>1460.000000</td>\n",
              "      <td>1460.000000</td>\n",
              "      <td>1460.000000</td>\n",
              "      <td>1452.000000</td>\n",
              "      <td>1460.000000</td>\n",
              "      <td>1460.000000</td>\n",
              "      <td>1460.000000</td>\n",
              "      <td>1460.000000</td>\n",
              "      <td>1460.000000</td>\n",
              "      <td>1460.000000</td>\n",
              "      <td>1460.000000</td>\n",
              "      <td>1460.000000</td>\n",
              "      <td>1460.000000</td>\n",
              "      <td>1460.000000</td>\n",
              "      <td>1460.000000</td>\n",
              "      <td>1460.000000</td>\n",
              "      <td>1460.000000</td>\n",
              "      <td>1460.000000</td>\n",
              "      <td>1460.000000</td>\n",
              "      <td>1460.000000</td>\n",
              "      <td>1379.000000</td>\n",
              "      <td>1460.000000</td>\n",
              "      <td>1460.000000</td>\n",
              "      <td>1460.000000</td>\n",
              "      <td>1460.000000</td>\n",
              "      <td>1460.000000</td>\n",
              "      <td>1460.000000</td>\n",
              "      <td>1460.000000</td>\n",
              "      <td>1460.000000</td>\n",
              "      <td>1460.000000</td>\n",
              "      <td>1460.000000</td>\n",
              "      <td>1460.000000</td>\n",
              "      <td>1460.000000</td>\n",
              "    </tr>\n",
              "    <tr>\n",
              "      <th>mean</th>\n",
              "      <td>730.500000</td>\n",
              "      <td>56.897260</td>\n",
              "      <td>70.049958</td>\n",
              "      <td>10516.828082</td>\n",
              "      <td>6.099315</td>\n",
              "      <td>5.575342</td>\n",
              "      <td>1971.267808</td>\n",
              "      <td>1984.865753</td>\n",
              "      <td>103.685262</td>\n",
              "      <td>443.639726</td>\n",
              "      <td>46.549315</td>\n",
              "      <td>567.240411</td>\n",
              "      <td>1057.429452</td>\n",
              "      <td>1162.626712</td>\n",
              "      <td>346.992466</td>\n",
              "      <td>5.844521</td>\n",
              "      <td>1515.463699</td>\n",
              "      <td>0.425342</td>\n",
              "      <td>0.057534</td>\n",
              "      <td>1.565068</td>\n",
              "      <td>0.382877</td>\n",
              "      <td>2.866438</td>\n",
              "      <td>1.046575</td>\n",
              "      <td>6.517808</td>\n",
              "      <td>0.613014</td>\n",
              "      <td>1978.506164</td>\n",
              "      <td>1.767123</td>\n",
              "      <td>472.980137</td>\n",
              "      <td>94.244521</td>\n",
              "      <td>46.660274</td>\n",
              "      <td>21.954110</td>\n",
              "      <td>3.409589</td>\n",
              "      <td>15.060959</td>\n",
              "      <td>2.758904</td>\n",
              "      <td>43.489041</td>\n",
              "      <td>6.321918</td>\n",
              "      <td>2007.815753</td>\n",
              "      <td>180921.195890</td>\n",
              "    </tr>\n",
              "    <tr>\n",
              "      <th>std</th>\n",
              "      <td>421.610009</td>\n",
              "      <td>42.300571</td>\n",
              "      <td>24.284752</td>\n",
              "      <td>9981.264932</td>\n",
              "      <td>1.382997</td>\n",
              "      <td>1.112799</td>\n",
              "      <td>30.202904</td>\n",
              "      <td>20.645407</td>\n",
              "      <td>181.066207</td>\n",
              "      <td>456.098091</td>\n",
              "      <td>161.319273</td>\n",
              "      <td>441.866955</td>\n",
              "      <td>438.705324</td>\n",
              "      <td>386.587738</td>\n",
              "      <td>436.528436</td>\n",
              "      <td>48.623081</td>\n",
              "      <td>525.480383</td>\n",
              "      <td>0.518911</td>\n",
              "      <td>0.238753</td>\n",
              "      <td>0.550916</td>\n",
              "      <td>0.502885</td>\n",
              "      <td>0.815778</td>\n",
              "      <td>0.220338</td>\n",
              "      <td>1.625393</td>\n",
              "      <td>0.644666</td>\n",
              "      <td>24.689725</td>\n",
              "      <td>0.747315</td>\n",
              "      <td>213.804841</td>\n",
              "      <td>125.338794</td>\n",
              "      <td>66.256028</td>\n",
              "      <td>61.119149</td>\n",
              "      <td>29.317331</td>\n",
              "      <td>55.757415</td>\n",
              "      <td>40.177307</td>\n",
              "      <td>496.123024</td>\n",
              "      <td>2.703626</td>\n",
              "      <td>1.328095</td>\n",
              "      <td>79442.502883</td>\n",
              "    </tr>\n",
              "    <tr>\n",
              "      <th>min</th>\n",
              "      <td>1.000000</td>\n",
              "      <td>20.000000</td>\n",
              "      <td>21.000000</td>\n",
              "      <td>1300.000000</td>\n",
              "      <td>1.000000</td>\n",
              "      <td>1.000000</td>\n",
              "      <td>1872.000000</td>\n",
              "      <td>1950.000000</td>\n",
              "      <td>0.000000</td>\n",
              "      <td>0.000000</td>\n",
              "      <td>0.000000</td>\n",
              "      <td>0.000000</td>\n",
              "      <td>0.000000</td>\n",
              "      <td>334.000000</td>\n",
              "      <td>0.000000</td>\n",
              "      <td>0.000000</td>\n",
              "      <td>334.000000</td>\n",
              "      <td>0.000000</td>\n",
              "      <td>0.000000</td>\n",
              "      <td>0.000000</td>\n",
              "      <td>0.000000</td>\n",
              "      <td>0.000000</td>\n",
              "      <td>0.000000</td>\n",
              "      <td>2.000000</td>\n",
              "      <td>0.000000</td>\n",
              "      <td>1900.000000</td>\n",
              "      <td>0.000000</td>\n",
              "      <td>0.000000</td>\n",
              "      <td>0.000000</td>\n",
              "      <td>0.000000</td>\n",
              "      <td>0.000000</td>\n",
              "      <td>0.000000</td>\n",
              "      <td>0.000000</td>\n",
              "      <td>0.000000</td>\n",
              "      <td>0.000000</td>\n",
              "      <td>1.000000</td>\n",
              "      <td>2006.000000</td>\n",
              "      <td>34900.000000</td>\n",
              "    </tr>\n",
              "    <tr>\n",
              "      <th>25%</th>\n",
              "      <td>365.750000</td>\n",
              "      <td>20.000000</td>\n",
              "      <td>59.000000</td>\n",
              "      <td>7553.500000</td>\n",
              "      <td>5.000000</td>\n",
              "      <td>5.000000</td>\n",
              "      <td>1954.000000</td>\n",
              "      <td>1967.000000</td>\n",
              "      <td>0.000000</td>\n",
              "      <td>0.000000</td>\n",
              "      <td>0.000000</td>\n",
              "      <td>223.000000</td>\n",
              "      <td>795.750000</td>\n",
              "      <td>882.000000</td>\n",
              "      <td>0.000000</td>\n",
              "      <td>0.000000</td>\n",
              "      <td>1129.500000</td>\n",
              "      <td>0.000000</td>\n",
              "      <td>0.000000</td>\n",
              "      <td>1.000000</td>\n",
              "      <td>0.000000</td>\n",
              "      <td>2.000000</td>\n",
              "      <td>1.000000</td>\n",
              "      <td>5.000000</td>\n",
              "      <td>0.000000</td>\n",
              "      <td>1961.000000</td>\n",
              "      <td>1.000000</td>\n",
              "      <td>334.500000</td>\n",
              "      <td>0.000000</td>\n",
              "      <td>0.000000</td>\n",
              "      <td>0.000000</td>\n",
              "      <td>0.000000</td>\n",
              "      <td>0.000000</td>\n",
              "      <td>0.000000</td>\n",
              "      <td>0.000000</td>\n",
              "      <td>5.000000</td>\n",
              "      <td>2007.000000</td>\n",
              "      <td>129975.000000</td>\n",
              "    </tr>\n",
              "    <tr>\n",
              "      <th>50%</th>\n",
              "      <td>730.500000</td>\n",
              "      <td>50.000000</td>\n",
              "      <td>69.000000</td>\n",
              "      <td>9478.500000</td>\n",
              "      <td>6.000000</td>\n",
              "      <td>5.000000</td>\n",
              "      <td>1973.000000</td>\n",
              "      <td>1994.000000</td>\n",
              "      <td>0.000000</td>\n",
              "      <td>383.500000</td>\n",
              "      <td>0.000000</td>\n",
              "      <td>477.500000</td>\n",
              "      <td>991.500000</td>\n",
              "      <td>1087.000000</td>\n",
              "      <td>0.000000</td>\n",
              "      <td>0.000000</td>\n",
              "      <td>1464.000000</td>\n",
              "      <td>0.000000</td>\n",
              "      <td>0.000000</td>\n",
              "      <td>2.000000</td>\n",
              "      <td>0.000000</td>\n",
              "      <td>3.000000</td>\n",
              "      <td>1.000000</td>\n",
              "      <td>6.000000</td>\n",
              "      <td>1.000000</td>\n",
              "      <td>1980.000000</td>\n",
              "      <td>2.000000</td>\n",
              "      <td>480.000000</td>\n",
              "      <td>0.000000</td>\n",
              "      <td>25.000000</td>\n",
              "      <td>0.000000</td>\n",
              "      <td>0.000000</td>\n",
              "      <td>0.000000</td>\n",
              "      <td>0.000000</td>\n",
              "      <td>0.000000</td>\n",
              "      <td>6.000000</td>\n",
              "      <td>2008.000000</td>\n",
              "      <td>163000.000000</td>\n",
              "    </tr>\n",
              "    <tr>\n",
              "      <th>75%</th>\n",
              "      <td>1095.250000</td>\n",
              "      <td>70.000000</td>\n",
              "      <td>80.000000</td>\n",
              "      <td>11601.500000</td>\n",
              "      <td>7.000000</td>\n",
              "      <td>6.000000</td>\n",
              "      <td>2000.000000</td>\n",
              "      <td>2004.000000</td>\n",
              "      <td>166.000000</td>\n",
              "      <td>712.250000</td>\n",
              "      <td>0.000000</td>\n",
              "      <td>808.000000</td>\n",
              "      <td>1298.250000</td>\n",
              "      <td>1391.250000</td>\n",
              "      <td>728.000000</td>\n",
              "      <td>0.000000</td>\n",
              "      <td>1776.750000</td>\n",
              "      <td>1.000000</td>\n",
              "      <td>0.000000</td>\n",
              "      <td>2.000000</td>\n",
              "      <td>1.000000</td>\n",
              "      <td>3.000000</td>\n",
              "      <td>1.000000</td>\n",
              "      <td>7.000000</td>\n",
              "      <td>1.000000</td>\n",
              "      <td>2002.000000</td>\n",
              "      <td>2.000000</td>\n",
              "      <td>576.000000</td>\n",
              "      <td>168.000000</td>\n",
              "      <td>68.000000</td>\n",
              "      <td>0.000000</td>\n",
              "      <td>0.000000</td>\n",
              "      <td>0.000000</td>\n",
              "      <td>0.000000</td>\n",
              "      <td>0.000000</td>\n",
              "      <td>8.000000</td>\n",
              "      <td>2009.000000</td>\n",
              "      <td>214000.000000</td>\n",
              "    </tr>\n",
              "    <tr>\n",
              "      <th>max</th>\n",
              "      <td>1460.000000</td>\n",
              "      <td>190.000000</td>\n",
              "      <td>313.000000</td>\n",
              "      <td>215245.000000</td>\n",
              "      <td>10.000000</td>\n",
              "      <td>9.000000</td>\n",
              "      <td>2010.000000</td>\n",
              "      <td>2010.000000</td>\n",
              "      <td>1600.000000</td>\n",
              "      <td>5644.000000</td>\n",
              "      <td>1474.000000</td>\n",
              "      <td>2336.000000</td>\n",
              "      <td>6110.000000</td>\n",
              "      <td>4692.000000</td>\n",
              "      <td>2065.000000</td>\n",
              "      <td>572.000000</td>\n",
              "      <td>5642.000000</td>\n",
              "      <td>3.000000</td>\n",
              "      <td>2.000000</td>\n",
              "      <td>3.000000</td>\n",
              "      <td>2.000000</td>\n",
              "      <td>8.000000</td>\n",
              "      <td>3.000000</td>\n",
              "      <td>14.000000</td>\n",
              "      <td>3.000000</td>\n",
              "      <td>2010.000000</td>\n",
              "      <td>4.000000</td>\n",
              "      <td>1418.000000</td>\n",
              "      <td>857.000000</td>\n",
              "      <td>547.000000</td>\n",
              "      <td>552.000000</td>\n",
              "      <td>508.000000</td>\n",
              "      <td>480.000000</td>\n",
              "      <td>738.000000</td>\n",
              "      <td>15500.000000</td>\n",
              "      <td>12.000000</td>\n",
              "      <td>2010.000000</td>\n",
              "      <td>755000.000000</td>\n",
              "    </tr>\n",
              "  </tbody>\n",
              "</table>\n",
              "</div>"
            ],
            "text/plain": [
              "                Id   MSSubClass  ...       YrSold      SalePrice\n",
              "count  1460.000000  1460.000000  ...  1460.000000    1460.000000\n",
              "mean    730.500000    56.897260  ...  2007.815753  180921.195890\n",
              "std     421.610009    42.300571  ...     1.328095   79442.502883\n",
              "min       1.000000    20.000000  ...  2006.000000   34900.000000\n",
              "25%     365.750000    20.000000  ...  2007.000000  129975.000000\n",
              "50%     730.500000    50.000000  ...  2008.000000  163000.000000\n",
              "75%    1095.250000    70.000000  ...  2009.000000  214000.000000\n",
              "max    1460.000000   190.000000  ...  2010.000000  755000.000000\n",
              "\n",
              "[8 rows x 38 columns]"
            ]
          },
          "metadata": {
            "tags": []
          },
          "execution_count": 60
        }
      ]
    },
    {
      "cell_type": "code",
      "metadata": {
        "id": "gUMg1V4iT7wb",
        "colab_type": "code",
        "colab": {
          "base_uri": "https://localhost:8080/",
          "height": 517
        },
        "outputId": "4487343b-d138-4fe4-ddda-2631d1d748b4"
      },
      "source": [
        "from pandas.plotting import scatter_matrix\n",
        "attributes = [\"SalePrice\", \"GrLivArea\", \"BedroomAbvGr\", \"YrSold\"]\n",
        "scatter_matrix(houses_train[attributes], figsize=(12, 8))\n",
        "plt.savefig('matrix.png')\n",
        "\n",
        "#most promising variable for predicting the last SalePrice is the GrLivArea"
      ],
      "execution_count": 30,
      "outputs": [
        {
          "output_type": "display_data",
          "data": {
            "image/png": "[encoded data removed]",
            "text/plain": [
              "<Figure size 864x576 with 16 Axes>"
            ]
          },
          "metadata": {
            "tags": [],
            "needs_background": "light"
          }
        }
      ]
    },
    {
      "cell_type": "code",
      "metadata": {
        "id": "E8h5fYkMUM4M",
        "colab_type": "code",
        "colab": {
          "base_uri": "https://localhost:8080/",
          "height": 279
        },
        "outputId": "852fe917-ef45-427b-e99d-2e76aef902c0"
      },
      "source": [
        "houses_train.plot(kind=\"scatter\", x=\"GrLivArea\", y=\"SalePrice\", alpha=0.5)\n",
        "plt.savefig('scatter.png')\n",
        "\n",
        "#correlation is strong: the upward trend, points are not too dispersed."
      ],
      "execution_count": 36,
      "outputs": [
        {
          "output_type": "display_data",
          "data": {
            "image/png": "[encoded data removed]",
            "text/plain": [
              "<Figure size 432x288 with 1 Axes>"
            ]
          },
          "metadata": {
            "tags": [],
            "needs_background": "light"
          }
        }
      ]
    },
    {
      "cell_type": "code",
      "metadata": {
        "id": "t3ugfcyVUZf0",
        "colab_type": "code",
        "colab": {}
      },
      "source": [
        "# create x and y\n",
        "feature_cols = 'GrLivArea' \n",
        "x = houses_train[feature_cols] # predictor\n",
        "y = houses_train.SalePrice # response\n",
        "\n"
      ],
      "execution_count": 0,
      "outputs": []
    },
    {
      "cell_type": "code",
      "metadata": {
        "id": "fEyoLeCFcKD2",
        "colab_type": "code",
        "colab": {}
      },
      "source": [
        "# split data into train and test\n",
        "x_train, x_test, y_train, y_test = train_test_split(\n",
        "    x, y, test_size=0.2) \n",
        "# the test set will be 20% of the whole data set\n",
        "\n",
        "\n",
        "x_train= x_train.values.reshape(-1, 1)\n",
        "y_train= y_train.values.reshape(-1, 1)\n",
        "x_test = x_test.values.reshape(-1, 1)\n",
        "\n"
      ],
      "execution_count": 0,
      "outputs": []
    },
    {
      "cell_type": "code",
      "metadata": {
        "id": "I7IfXwdIUnB1",
        "colab_type": "code",
        "colab": {
          "base_uri": "https://localhost:8080/",
          "height": 51
        },
        "outputId": "ec7081d0-4a34-4425-ab34-06665bdfe276"
      },
      "source": [
        "#fit\n",
        "linreg = LinearRegression()\n",
        "linreg.fit(x_train, y_train)\n",
        "\n",
        "print (linreg.intercept_)\n",
        "print (linreg.coef_)"
      ],
      "execution_count": 55,
      "outputs": [
        {
          "output_type": "stream",
          "text": [
            "[12502.73940675]\n",
            "[[111.27339698]]\n"
          ],
          "name": "stdout"
        }
      ]
    },
    {
      "cell_type": "markdown",
      "metadata": {
        "id": "JZ37_fE2e9qW",
        "colab_type": "text"
      },
      "source": [
        "for an increasee of 1 sqft of ground living area, the price will go up by $111.27\n",
        "\n",
        "\n",
        "from this, our model is: \n",
        "price = 12502.74 + 111.27 * x"
      ]
    },
    {
      "cell_type": "code",
      "metadata": {
        "id": "qwJTjq8denop",
        "colab_type": "code",
        "colab": {
          "base_uri": "https://localhost:8080/",
          "height": 34
        },
        "outputId": "b89d50f1-9405-4551-ef50-d5db9c71fba5"
      },
      "source": [
        "#R squared coefficient\n",
        "linreg.score(x_test,y_test)\n",
        "\n",
        "#R squared coefficient = 38 % \n",
        "#meaning that our model is only able to explain 38% of the variability in house prices"
      ],
      "execution_count": 58,
      "outputs": [
        {
          "output_type": "execute_result",
          "data": {
            "text/plain": [
              "0.3837216964654493"
            ]
          },
          "metadata": {
            "tags": []
          },
          "execution_count": 58
        }
      ]
    },
    {
      "cell_type": "markdown",
      "metadata": {
        "id": "eSOb_9_wAaRv",
        "colab_type": "text"
      },
      "source": [
        "Hi professor, a quick note for you. So for this assignment, I could have achieved better results if I had more reviews. But because I didnt collect enough reviews so the results don't look so good. I believe the methods are right though. I'll work on automatically collecting the top 100 reviews over the summer :)"
      ]
    }
  ]
}