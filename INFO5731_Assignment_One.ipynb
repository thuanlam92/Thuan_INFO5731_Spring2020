{
  "nbformat": 4,
  "nbformat_minor": 0,
  "metadata": {
    "colab": {
      "name": "INFO5731 Assignment One",
      "provenance": [],
      "collapsed_sections": [],
      "authorship_tag": "ABX9TyMCjqkKyDyc1XXIRqHZ3yAK",
      "include_colab_link": true
    },
    "kernelspec": {
      "name": "python3",
      "display_name": "Python 3"
    }
  },
  "cells": [
    {
      "cell_type": "markdown",
      "metadata": {
        "id": "view-in-github",
        "colab_type": "text"
      },
      "source": [
        "<a href=\"https://colab.research.google.com/github/thuanlam92/Thuan_INFO5731_Spring2020/blob/master/INFO5731_Assignment_One.ipynb\" target=\"_parent\"><img src=\"https://colab.research.google.com/assets/colab-badge.svg\" alt=\"Open In Colab\"/></a>"
      ]
    },
    {
      "cell_type": "markdown",
      "metadata": {
        "id": "ycxs2XLN8lEo",
        "colab_type": "text"
      },
      "source": [
        "# Question 1\n",
        "\n",
        "(20 points). Write a Python program to generate 12 random numbers between 1 and 100. Sort the list of numbers in ascending order and print it out. Sort the list of numbers in descending order and print it out. Calculate the average for the group and print it out."
      ]
    },
    {
      "cell_type": "code",
      "metadata": {
        "id": "jzMy-BRdO3uK",
        "colab_type": "code",
        "outputId": "dfe6f2a5-9769-4822-c0cd-12dd9533ce21",
        "colab": {
          "base_uri": "https://localhost:8080/",
          "height": 85
        }
      },
      "source": [
        "import random # to generate random number and append them to a list\n",
        "\n",
        "\n",
        "#create a random list then append random numbers\n",
        "random_list = [].  #randint() generates an inteeeger between a given range or numbers\n",
        "\n",
        "for i in range (0,12):\n",
        "    numbers = random.randint(1,100)\n",
        "    random_list.append(numbers)\n",
        "print (random_list)\n",
        "\n",
        "#list in ascending order\n",
        "random_list.sort()\n",
        "print (\"Ascending order:\", random_list)\n",
        "\n",
        "#list in descending order\n",
        "random_list.sort(reverse=True)\n",
        "print (\"Descending order:\", random_list)\n",
        "\n",
        "#to find the average\n",
        "avg = sum (random_list)/len (random_list)\n",
        "print (\"The average is\", round(avg,2))\n"
      ],
      "execution_count": 0,
      "outputs": [
        {
          "output_type": "stream",
          "text": [
            "[63, 27, 31, 75, 73, 50, 46, 74, 80, 87, 51, 10]\n",
            "Ascending order: [10, 27, 31, 46, 50, 51, 63, 73, 74, 75, 80, 87]\n",
            "Descending order: [87, 80, 75, 74, 73, 63, 51, 50, 46, 31, 27, 10]\n",
            "The average is 55.58\n"
          ],
          "name": "stdout"
        }
      ]
    },
    {
      "cell_type": "markdown",
      "metadata": {
        "id": "PECqd_7t8phZ",
        "colab_type": "text"
      },
      "source": [
        "# Question 2\n",
        "(25 points). Write a program that will do the following string formatting tasks:\n",
        "\n",
        "(1) Ask the user to enter two sentences.\n",
        "\n",
        "(2) Make each sentence into a list. Each element in the list should correspond to a word in the sentence. For example, if the sentence is \"Alas! Am I alive? This is my first python program\", the program should print out ['Alas, '!', 'Am', 'I', 'alive, '?', 'This', 'is', 'my', 'first', 'python', 'program'].\n",
        "\n",
        "(3) Compare the two sentences. Print out a list of words that occur in both sentences.\n",
        "\n",
        "(4) Remove any punctuation from the sentence and print it back out. It should remove at least the following characters, but it can remove more: period(“.”), comma (“,”), semicolon (“;”), and colon (“:”)\n",
        "\n",
        "(5) Count the number of vowels in the sentences. Print out each vowel and the number of times it appears in the sentences, such as: a:2, e:1, i:0, etc"
      ]
    },
    {
      "cell_type": "code",
      "metadata": {
        "id": "WedVRUGzifTA",
        "colab_type": "code",
        "colab": {}
      },
      "source": [
        "#1 to take input\n",
        "sentence_1 = input ('Type here: ')\n",
        "sentence_2 = input ('Type here: ')\n",
        "\n",
        "#2 turn each sentence into a list of words\n",
        "list_1 = sentence_1.split() #split() splits a string into a list\n",
        "print (list_1)\n",
        "\n",
        "list_2 = sentence_2.split()\n",
        "print (list_2)\n",
        "\n",
        "#3 list of words that occur in both sentences \n",
        "print (list_1 + list_2)\n",
        "\n",
        "#4 to take out the punctuations\n",
        "import string\n",
        "table = str.maketrans('', '', string.punctuation)\n",
        "list_1_cleaned = [w.translate(table) for w in list_1]\n",
        "print (list_1_cleaned)\n",
        "\n",
        "\n",
        "import string\n",
        "table = str.maketrans('', '', string.punctuation)\n",
        "list_2_cleaned = [w.translate(table) for w in list_2]\n",
        "print (list_2_cleaned)\n",
        "\n",
        "\n",
        "\n",
        "#5 count vowels in each sentence\n",
        "vowels = 'aeiou'\n",
        "def check_vow (string, vowels):\n",
        "    string = string.casefold() #casefold is used to ignore cases\n",
        "    count = {}.fromkeys(vowels,0) #form a dictionary with a key as a vowel and the value as 0\n",
        "\n",
        "    for character in string:\n",
        "        if character in count:\n",
        "            count[character] +=1\n",
        "    return count\n",
        "\n",
        "print (\"Sentence 1 : \", check_vow (sentence_1, vowels))\n",
        "print (\"Sentence 2 : \", check_vow (sentence_2, vowels))"
      ],
      "execution_count": 0,
      "outputs": []
    },
    {
      "cell_type": "markdown",
      "metadata": {
        "id": "mbriNAcx8yOZ",
        "colab_type": "text"
      },
      "source": [
        "# Question 3 \n",
        "\n",
        "(15 points). The formula that describes the volume V of a sphere with radius r is the following:\n",
        "\n",
        "$ V=\\frac{4}{3}\\ast\\ \\pi\\ast\\ r^3 $\n",
        "\n",
        "Write a program to calculate the value of V when r is in the range of 1–10. Output the result in the following format:\n",
        "\n",
        "\tr\tV\n",
        "\t1\t…\n",
        "\t2\t…\n",
        "\t3\t…\n"
      ]
    },
    {
      "cell_type": "code",
      "metadata": {
        "id": "5n9Tg9lljtuG",
        "colab_type": "code",
        "outputId": "1a7ac817-713f-4df1-dc13-060372126b04",
        "colab": {
          "base_uri": "https://localhost:8080/",
          "height": 170
        }
      },
      "source": [
        "pi = 3.14\n",
        "\n",
        "for r in range (1,10):\n",
        "    vol = (4/3) * pi * (r**3)\n",
        "    print (r,vol)\n",
        "    r += 1"
      ],
      "execution_count": 0,
      "outputs": [
        {
          "output_type": "stream",
          "text": [
            "1 4.1866666666666665\n",
            "2 33.49333333333333\n",
            "3 113.03999999999999\n",
            "4 267.94666666666666\n",
            "5 523.3333333333334\n",
            "6 904.3199999999999\n",
            "7 1436.0266666666666\n",
            "8 2143.5733333333333\n",
            "9 3052.08\n"
          ],
          "name": "stdout"
        }
      ]
    },
    {
      "cell_type": "markdown",
      "metadata": {
        "id": "geo5BbxF81aQ",
        "colab_type": "text"
      },
      "source": [
        "# Question 4\n",
        "\n",
        "(40 points). In the field of Data Science, data is often formatted as a comma-delimited (CSV) file, where each line in a file corresponds to a field's value. Refer to Chapter 9 (p. 106) for more information on comma-delimited files. To answer this question, you will need to download the file [Assignment1_denton_housing.csv](https://github.com/unt-iialab/INFO5731_Spring2020/blob/master/Assignments/Assignment1_denton_housing.csv) included with this assignment. The [file Assignment1_denton_housing.csv](https://github.com/unt-iialab/INFO5731_Spring2020/blob/master/Assignments/Assignment1_denton_housing.csv) contains statistics about housing in the city of Denton from 2008 to 2014. Write a program to implement the following questions.\n",
        "\n",
        "(1) (10 pts) Calculate the difference in the number of Occupied Housing Units from year to year and print it. The difference must be calculated for the consecutive years such as 2008-2009, 2009-2010 etc. Finally, print the values in the ascending order.\n",
        "\n",
        "(2) (10 pts) For all the years, calculate the percentage of housing units which are vacant and occupied. Print the results in the following format:\n",
        "\n",
        "Year Vacant Housing Units Occupied Housing Units\n",
        "\n",
        "    2008  30%   70%                          \n",
        "\t2009 ----- -----\n",
        "\t2010 ----- -----\n",
        "    2011 ----- -----\n",
        "\t2012 ----- -----\n",
        "    2013 ----- -----\n",
        "\t2014 ----- -----\n",
        "  \n",
        "  \n",
        "\n",
        "(3) (10 pts) Calculate and print the valued and years in which the highest number of housing units were vacant and occupied. Print the results in the following format:  \n",
        "\n",
        "                              Year\tValue\n",
        "\tVacant Housing Units\t  -----   -----\n",
        "\tOccupied Housing Units\t-----   -----\n",
        "\n",
        "(4) (10 pts) Calculate the harmonic mean of the total housing units and print it out. You can find the information about harmonic mean here: https://ncalculators.com/statistics/harmonic-mean-calculator.htm"
      ]
    },
    {
      "cell_type": "code",
      "metadata": {
        "id": "KAY9VXlTl64C",
        "colab_type": "code",
        "colab": {}
      },
      "source": [
        "import csv\n",
        "import pandas as pd\n",
        "from statistics import harmonic_mean\n",
        "\n",
        "#1\n",
        "\n",
        "df = pd.read_csv('Assignment1_denton_housing.csv')\n",
        "print (df)\n",
        "\n",
        "f = df.loc[df['title_field'] == \"Occupied Housing Units\"]    \n",
        "print (f)\n",
        "\n",
        "\n",
        "f.sort_values(by='year',inplace=True)\n",
        "f['Difference'] = f['value'].sub(f['value'].shift()).fillna(0)\n",
        "#or f['Difference'] = f['value'].diff().fillna(0)\n",
        "print (f)\n",
        "\n",
        "\n",
        "#2\n",
        "\n",
        "t_f = df.pivot_table('value','year','title_field')\n",
        "title_field = t_f[[ \"Occupied Housing Units\", \"Vacant Housing Units\", \"Total Housing Units\"]]\n",
        "print(title_field)\n",
        "        \n",
        "title_field['percent_occupied'] = (title_field[\"Occupied Housing Units\"]/title_field[\"Total Housing Units\"])*100\n",
        "print(title_field['percent_occupied'])\n",
        "\n",
        "title_field['percent_vacant'] = (title_field[\"Vacant Housing Units\"]/title_field[\"Total Housing Units\"])*100\n",
        "print(title_field['percent_vacant'])\n",
        "\n",
        "\n",
        "\n",
        "#3\n",
        "\n",
        "f = df.loc[df['title_field'] == \"Occupied Housing Units\"]\n",
        "highest_occupied = f['value'].max()\n",
        "\n",
        "f1 = f.loc[df['value'] == highest_occupied]\n",
        "print(f1)\n",
        "\n",
        "\n",
        "\n",
        "vf = df.loc[df['title_field'] == \"Vacant Housing Units\"]\n",
        "highest_vacant = vf['value'].max()\n",
        "f2 = vf.loc[df['value'] == highest_vacant]\n",
        "print(f2)\n",
        "\n",
        "\n",
        "\n",
        "#4\n",
        "\n",
        "total_housing = df.loc[df['title_field'] == \"Total Housing Units\"]    \n",
        "print (total_housing)\n",
        "\n",
        "harm_mean = harmonic_mean(total_housing['value'])\n",
        "print(\"Harmonic mean is :\", harm_mean)\n"
      ],
      "execution_count": 0,
      "outputs": []
    }
  ]
}