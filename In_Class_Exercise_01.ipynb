{
  "nbformat": 4,
  "nbformat_minor": 0,
  "metadata": {
    "colab": {
      "name": "Untitled1.ipynb",
      "provenance": [],
      "authorship_tag": "ABX9TyP0QQlHSa37VqF1bFmDUUw3",
      "include_colab_link": true
    },
    "kernelspec": {
      "name": "python3",
      "display_name": "Python 3"
    }
  },
  "cells": [
    {
      "cell_type": "markdown",
      "metadata": {
        "id": "view-in-github",
        "colab_type": "text"
      },
      "source": [
        "<a href=\"https://colab.research.google.com/github/thuanlam92/Thuan_INFO5731_Spring2020/blob/master/In_Class_Exercise_01.ipynb\" target=\"_parent\"><img src=\"https://colab.research.google.com/assets/colab-badge.svg\" alt=\"Open In Colab\"/></a>"
      ]
    },
    {
      "cell_type": "code",
      "metadata": {
        "id": "4oZBOkv3YCAQ",
        "colab_type": "code",
        "colab": {
          "base_uri": "https://localhost:8080/",
          "height": 34
        },
        "outputId": "0d8b6d05-b497-4f21-ede7-3e52c45a6453"
      },
      "source": [
        "#1\n",
        "x = \"Helllo, World!\"\n",
        "print(len(x))"
      ],
      "execution_count": 1,
      "outputs": [
        {
          "output_type": "stream",
          "text": [
            "14\n"
          ],
          "name": "stdout"
        }
      ]
    },
    {
      "cell_type": "code",
      "metadata": {
        "id": "Rb1WOCV6YGMe",
        "colab_type": "code",
        "colab": {
          "base_uri": "https://localhost:8080/",
          "height": 34
        },
        "outputId": "b3f5d442-35d9-4c6f-e26e-696072e14bd7"
      },
      "source": [
        "#2\n",
        "x = \"Hello, World!\"\n",
        "def count_char(x):\n",
        "  dict = {}\n",
        "  for n in x:\n",
        "    keys = dict.keys()\n",
        "    if n in keys:\n",
        "      dict[n] +=1\n",
        "    else:\n",
        "      dict[n] = 1\n",
        "  return dict\n",
        "print (count_char(x))"
      ],
      "execution_count": 2,
      "outputs": [
        {
          "output_type": "stream",
          "text": [
            "{'H': 1, 'e': 1, 'l': 3, 'o': 2, ',': 1, ' ': 1, 'W': 1, 'r': 1, 'd': 1, '!': 1}\n"
          ],
          "name": "stdout"
        }
      ]
    },
    {
      "cell_type": "code",
      "metadata": {
        "id": "C6_4TDL1YJ3x",
        "colab_type": "code",
        "colab": {
          "base_uri": "https://localhost:8080/",
          "height": 34
        },
        "outputId": "d82cc7f8-9de9-49b6-c438-69e3fc3f15b5"
      },
      "source": [
        "#3\n",
        "x = [1,2,3,4,5,6,7,8]\n",
        "print (sum(x))"
      ],
      "execution_count": 3,
      "outputs": [
        {
          "output_type": "stream",
          "text": [
            "36\n"
          ],
          "name": "stdout"
        }
      ]
    },
    {
      "cell_type": "code",
      "metadata": {
        "id": "sRniQX53YMaD",
        "colab_type": "code",
        "colab": {
          "base_uri": "https://localhost:8080/",
          "height": 34
        },
        "outputId": "ebe9bece-b344-4867-b30c-754f4ee7cdb0"
      },
      "source": [
        "#4\n",
        "def change_char (str1):\n",
        "  char = str1[0]\n",
        "  str1 = str1.replace(char,'$')\n",
        "  str1 = char + str1[1:]\n",
        "  return str1\n",
        "print (change_char('restart'))"
      ],
      "execution_count": 4,
      "outputs": [
        {
          "output_type": "stream",
          "text": [
            "resta$t\n"
          ],
          "name": "stdout"
        }
      ]
    },
    {
      "cell_type": "code",
      "metadata": {
        "id": "H5Maa9YiYPdG",
        "colab_type": "code",
        "colab": {
          "base_uri": "https://localhost:8080/",
          "height": 34
        },
        "outputId": "7580dc52-1b97-44b8-ded5-cbe562796127"
      },
      "source": [
        "#5\n",
        "def S(a,b):\n",
        "  return 3.14 * (1 + a/b) ** 3\n",
        "S (1,2)"
      ],
      "execution_count": 5,
      "outputs": [
        {
          "output_type": "execute_result",
          "data": {
            "text/plain": [
              "10.5975"
            ]
          },
          "metadata": {
            "tags": []
          },
          "execution_count": 5
        }
      ]
    },
    {
      "cell_type": "code",
      "metadata": {
        "id": "ele4EeYLYR9l",
        "colab_type": "code",
        "colab": {
          "base_uri": "https://localhost:8080/",
          "height": 34
        },
        "outputId": "67842169-afd0-4e75-93ea-de633df6a879"
      },
      "source": [
        "#6\n",
        "dic1={1:10, 2:20}\n",
        "dic2={3:30, 4:40}\n",
        "dic3={5:50,6:60}\n",
        "dic4 = {**dic1, **dic2, **dic3}\n",
        "print (dic4)\n"
      ],
      "execution_count": 6,
      "outputs": [
        {
          "output_type": "stream",
          "text": [
            "{1: 10, 2: 20, 3: 30, 4: 40, 5: 50, 6: 60}\n"
          ],
          "name": "stdout"
        }
      ]
    },
    {
      "cell_type": "code",
      "metadata": {
        "id": "WvzRpLQ2YUH1",
        "colab_type": "code",
        "colab": {
          "base_uri": "https://localhost:8080/",
          "height": 51
        },
        "outputId": "85ad8ffe-ef25-43ce-a202-543462118a86"
      },
      "source": [
        "#7\n",
        "tuplex = (\"u\", \"n\", \"i\", \"v\", \"e\", \"r\", \"s\", \"i\", \"t\", \"y\")\n",
        "print (\"e\" in tuplex)\n",
        "print (\"a\" in tuplex)"
      ],
      "execution_count": 7,
      "outputs": [
        {
          "output_type": "stream",
          "text": [
            "True\n",
            "False\n"
          ],
          "name": "stdout"
        }
      ]
    },
    {
      "cell_type": "code",
      "metadata": {
        "id": "eEK4zrtXYWaB",
        "colab_type": "code",
        "colab": {
          "base_uri": "https://localhost:8080/",
          "height": 51
        },
        "outputId": "36c7366a-7cde-443b-a4be-5b08e9b15552"
      },
      "source": [
        "#8\n",
        "x = set ([1,2,3,4,5,6,7,8,9,10]) #create a set\n",
        "print (max(x))\n",
        "print (min(x))"
      ],
      "execution_count": 8,
      "outputs": [
        {
          "output_type": "stream",
          "text": [
            "10\n",
            "1\n"
          ],
          "name": "stdout"
        }
      ]
    },
    {
      "cell_type": "code",
      "metadata": {
        "id": "6HWFFP6zYZkI",
        "colab_type": "code",
        "colab": {
          "base_uri": "https://localhost:8080/",
          "height": 85
        },
        "outputId": "ea6ec411-fe07-4fa9-cf1a-c3610c4ab99e"
      },
      "source": [
        "#9\n",
        "import random\n",
        "#sampling with replacement\n",
        "studnet_list = ['sa0753','laa0240','lba0043','pb0283','vmb0067','vcd0017','ag1121','lg0426','mj0396','ak0860','vk0222','vk0216', 'tpk0023','nk0327','mk0830','tbl0041','al0787','am1823','sm1515','km0738','hn0139','an0521','ap0975','dp1080', 'pk0292','vp0241','rp0477','hr0178','ps0501','ss1976','ss1872','ss1872','bs0490','pt0218','ry0104']\n",
        "for i in range (4):\n",
        "  sampling = random.choices(studnet_list, k=6)\n",
        "  studnet_list = [i for i in studnet_list if i not in sampling]\n",
        "  print (\"Group\" + str(i+1) + \": \", sampling)"
      ],
      "execution_count": 9,
      "outputs": [
        {
          "output_type": "stream",
          "text": [
            "Group1:  ['vk0222', 'sm1515', 'ag1121', 'lba0043', 'vcd0017', 'hn0139']\n",
            "Group2:  ['nk0327', 'km0738', 'ss1976', 'nk0327', 'hr0178', 'am1823']\n",
            "Group3:  ['al0787', 'vmb0067', 'ss1872', 'ap0975', 'vk0216', 'pb0283']\n",
            "Group4:  ['dp1080', 'ry0104', 'mj0396', 'sa0753', 'ak0860', 'mj0396']\n"
          ],
          "name": "stdout"
        }
      ]
    }
  ]
}