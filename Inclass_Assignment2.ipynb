{
  "nbformat": 4,
  "nbformat_minor": 0,
  "metadata": {
    "colab": {
      "name": "Inclass_Assignment2",
      "provenance": [],
      "collapsed_sections": [],
      "authorship_tag": "ABX9TyPYp9GZWmPxM+r7k32sR9aS",
      "include_colab_link": true
    },
    "kernelspec": {
      "name": "python3",
      "display_name": "Python 3"
    }
  },
  "cells": [
    {
      "cell_type": "markdown",
      "metadata": {
        "id": "view-in-github",
        "colab_type": "text"
      },
      "source": [
        "<a href=\"https://colab.research.google.com/github/thuanlam92/Thuan_INFO5731_Spring2020/blob/master/Inclass_Assignment2.ipynb\" target=\"_parent\"><img src=\"https://colab.research.google.com/assets/colab-badge.svg\" alt=\"Open In Colab\"/></a>"
      ]
    },
    {
      "cell_type": "markdown",
      "metadata": {
        "id": "mzLJSQxhWg79",
        "colab_type": "text"
      },
      "source": [
        "1. Write a Python program to find the duplicate elements in a given array of integers.\n",
        "Return -1 If there are no such elements."
      ]
    },
    {
      "cell_type": "code",
      "metadata": {
        "id": "e9NXeXZvWA-j",
        "colab_type": "code",
        "outputId": "59c4b4c3-57fd-4628-eff2-05bd28d1aafb",
        "colab": {
          "base_uri": "https://localhost:8080/",
          "height": 51
        }
      },
      "source": [
        "\n",
        "\n",
        "def find_duplicate(nums):\n",
        "    num_set = set()\n",
        "    no_duplicate = -1\n",
        "\n",
        "    for i in range(len(nums)):\n",
        "        if nums[i] in num_set:\n",
        "            return nums[i]\n",
        "        else:\n",
        "            num_set.add(nums[i])\n",
        "\n",
        "    return no_duplicate\n",
        "\n",
        "print(find_duplicate([1,2,3,4,5,6,7,8,9,10]))\n",
        "print(find_duplicate([1,2,3,4,5,5,7,8,9,10]))"
      ],
      "execution_count": 0,
      "outputs": [
        {
          "output_type": "stream",
          "text": [
            "-1\n",
            "5\n"
          ],
          "name": "stdout"
        }
      ]
    },
    {
      "cell_type": "markdown",
      "metadata": {
        "id": "yKrTya6JWamy",
        "colab_type": "text"
      },
      "source": [
        "2. Write a Python program to select all the Sundays of a specified year."
      ]
    },
    {
      "cell_type": "code",
      "metadata": {
        "id": "m2325WJ1WF3y",
        "colab_type": "code",
        "outputId": "eca87cbd-21b9-481f-e67a-e3991525435a",
        "colab": {
          "base_uri": "https://localhost:8080/",
          "height": 901
        }
      },
      "source": [
        "\n",
        "\n",
        "from datetime import date, timedelta\n",
        "\n",
        "def sundays(year):\n",
        "    d = date(year, 1, 1) #Jan 1st of the given year\n",
        "    d += timedelta(days = 6 - d.weekday()) #First sunday of the given year\n",
        "    while d.year == year:\n",
        "        yield d\n",
        "        d += timedelta(days = 7)\n",
        "\n",
        "for d in sundays(2019):\n",
        "    print(d)"
      ],
      "execution_count": 0,
      "outputs": [
        {
          "output_type": "stream",
          "text": [
            "2019-01-06\n",
            "2019-01-13\n",
            "2019-01-20\n",
            "2019-01-27\n",
            "2019-02-03\n",
            "2019-02-10\n",
            "2019-02-17\n",
            "2019-02-24\n",
            "2019-03-03\n",
            "2019-03-10\n",
            "2019-03-17\n",
            "2019-03-24\n",
            "2019-03-31\n",
            "2019-04-07\n",
            "2019-04-14\n",
            "2019-04-21\n",
            "2019-04-28\n",
            "2019-05-05\n",
            "2019-05-12\n",
            "2019-05-19\n",
            "2019-05-26\n",
            "2019-06-02\n",
            "2019-06-09\n",
            "2019-06-16\n",
            "2019-06-23\n",
            "2019-06-30\n",
            "2019-07-07\n",
            "2019-07-14\n",
            "2019-07-21\n",
            "2019-07-28\n",
            "2019-08-04\n",
            "2019-08-11\n",
            "2019-08-18\n",
            "2019-08-25\n",
            "2019-09-01\n",
            "2019-09-08\n",
            "2019-09-15\n",
            "2019-09-22\n",
            "2019-09-29\n",
            "2019-10-06\n",
            "2019-10-13\n",
            "2019-10-20\n",
            "2019-10-27\n",
            "2019-11-03\n",
            "2019-11-10\n",
            "2019-11-17\n",
            "2019-11-24\n",
            "2019-12-01\n",
            "2019-12-08\n",
            "2019-12-15\n",
            "2019-12-22\n",
            "2019-12-29\n"
          ],
          "name": "stdout"
        }
      ]
    },
    {
      "cell_type": "markdown",
      "metadata": {
        "id": "W_NYa0ORWRpm",
        "colab_type": "text"
      },
      "source": [
        "3. Python files reading and writing. Download the “exercise_02_data _collection.zip” to your local and un-zip it.\n",
        "Write a program to read all the txt files and save the sentences in all the files into one csv file with two columns, the first column is sentence id (txt file name+sentence line number), the second column is the sentence text content.\n",
        "Remove all the punctuations from the sentences, save the processed sentences into a new column in the same csv file.\n",
        "Ask the user to enter a word, return all the sentences that include this word, three kinds of information should be returned: sentence id, sentence text content, the count that user input word appear in the sentence.."
      ]
    },
    {
      "cell_type": "code",
      "metadata": {
        "colab_type": "code",
        "outputId": "d79e5994-9f2a-484e-db88-b7bcdfccbe78",
        "id": "FvyPFiZ3IAub",
        "colab": {
          "base_uri": "https://localhost:8080/",
          "height": 34
        }
      },
      "source": [
        "#3\n",
        "\n",
        "import xlwt\n",
        "import xlrd\n",
        "import os\n",
        "\n",
        "path = '/Users/theresalam/exercise_02_data_collection' # path to folder contains all files\n",
        "book = xlwt.Workbook() # intiate the workbook\n",
        "ws = book.add_sheet('First Sheet')  # Add a sheet\n",
        "counter = 0 # set counter start at 0 \n",
        "\n",
        "for filename in sorted(os.listdir(path)):\n",
        "        print(filename)\n",
        "        with open(filename, \"r\") as f: # open every single file \n",
        "            data = f.readlines() # read line\n",
        "            print(data)        \n",
        "        print(counter)\n",
        "        ws.write(counter,0,'ARTHROTEC'+'.'+str(counter+1)) # Write the first column with filename + line number\n",
        "        ws.write(counter,1,data)  # write sentence content to row\n",
        "        book.save('Excelfile' + '.csv') # save into csv\n",
        "        f.close() # close reading mode\n",
        "        counter+=1 # increment the counter to read and write to next line\n"
      ],
      "execution_count": 0,
      "outputs": [
        {
          "output_type": "stream",
          "text": [
            "[]\n"
          ],
          "name": "stdout"
        }
      ]
    },
    {
      "cell_type": "code",
      "metadata": {
        "id": "OMc-PfFVH5kE",
        "colab_type": "code",
        "colab": {}
      },
      "source": [
        ""
      ],
      "execution_count": 0,
      "outputs": []
    },
    {
      "cell_type": "markdown",
      "metadata": {
        "id": "VCZYdpiqWogg",
        "colab_type": "text"
      },
      "source": [
        "4. Install packages nltk, numpy, scipy, pandas, and sklearn on Google Colab. Write a program to test whether they are installed successfully."
      ]
    },
    {
      "cell_type": "code",
      "metadata": {
        "id": "OIMjDs-_H5Oe",
        "colab_type": "code",
        "colab": {}
      },
      "source": [
        ""
      ],
      "execution_count": 0,
      "outputs": []
    },
    {
      "cell_type": "code",
      "metadata": {
        "id": "S-x4Wgl8XNkz",
        "colab_type": "code",
        "outputId": "d7c39e3a-6772-4b70-90a5-1a6f895db5e2",
        "colab": {
          "base_uri": "https://localhost:8080/",
          "height": 734
        }
      },
      "source": [
        "!pip install nltk\n",
        "!pip install numpy\n",
        "!pip install scipy\n",
        "!pip install pandas\n",
        "!pip install sklearn\n",
        "\n",
        "\n"
      ],
      "execution_count": 0,
      "outputs": [
        {
          "output_type": "stream",
          "text": [
            "Requirement already satisfied: nltk in /usr/local/lib/python3.6/dist-packages (3.2.5)\n",
            "Requirement already satisfied: six in /usr/local/lib/python3.6/dist-packages (from nltk) (1.12.0)\n",
            "Requirement already satisfied: numpy in /usr/local/lib/python3.6/dist-packages (1.17.5)\n",
            "Requirement already satisfied: scipy in /usr/local/lib/python3.6/dist-packages (1.4.1)\n",
            "Requirement already satisfied: numpy>=1.13.3 in /usr/local/lib/python3.6/dist-packages (from scipy) (1.17.5)\n",
            "Requirement already satisfied: pandas in /usr/local/lib/python3.6/dist-packages (0.25.3)\n",
            "Requirement already satisfied: python-dateutil>=2.6.1 in /usr/local/lib/python3.6/dist-packages (from pandas) (2.6.1)\n",
            "Requirement already satisfied: numpy>=1.13.3 in /usr/local/lib/python3.6/dist-packages (from pandas) (1.17.5)\n",
            "Requirement already satisfied: pytz>=2017.2 in /usr/local/lib/python3.6/dist-packages (from pandas) (2018.9)\n",
            "Requirement already satisfied: six>=1.5 in /usr/local/lib/python3.6/dist-packages (from python-dateutil>=2.6.1->pandas) (1.12.0)\n",
            "Requirement already satisfied: sklearn in /usr/local/lib/python3.6/dist-packages (0.0)\n",
            "Requirement already satisfied: scikit-learn in /usr/local/lib/python3.6/dist-packages (from sklearn) (0.22.1)\n",
            "Requirement already satisfied: scipy>=0.17.0 in /usr/local/lib/python3.6/dist-packages (from scikit-learn->sklearn) (1.4.1)\n",
            "Requirement already satisfied: joblib>=0.11 in /usr/local/lib/python3.6/dist-packages (from scikit-learn->sklearn) (0.14.1)\n",
            "Requirement already satisfied: numpy>=1.11.0 in /usr/local/lib/python3.6/dist-packages (from scikit-learn->sklearn) (1.17.5)\n"
          ],
          "name": "stdout"
        },
        {
          "output_type": "execute_result",
          "data": {
            "text/plain": [
              "['Install',\n",
              " 'packages',\n",
              " 'nltk',\n",
              " ',',\n",
              " 'numpy',\n",
              " ',',\n",
              " 'scipy',\n",
              " ',',\n",
              " 'pandas',\n",
              " ',',\n",
              " 'and',\n",
              " 'sklearn',\n",
              " 'on',\n",
              " 'Google',\n",
              " 'Colab',\n",
              " '.',\n",
              " 'Write',\n",
              " 'a',\n",
              " 'program',\n",
              " 'to',\n",
              " 'test',\n",
              " 'whether',\n",
              " 'they',\n",
              " 'are',\n",
              " 'installed',\n",
              " 'successfully']"
            ]
          },
          "metadata": {
            "tags": []
          },
          "execution_count": 9
        }
      ]
    },
    {
      "cell_type": "code",
      "metadata": {
        "id": "6mgLwQ6ac72I",
        "colab_type": "code",
        "outputId": "32e0b1bf-3e21-411c-f5f9-d4eb7ffab938",
        "colab": {
          "base_uri": "https://localhost:8080/",
          "height": 459
        }
      },
      "source": [
        "# test nltk\n",
        "from nltk.tokenize import wordpunct_tokenize\n",
        "wordpunct_tokenize(\"Install packages nltk, numpy, scipy, pandas, and sklearn on Google Colab. Write a program to test whether they are installed successfully\")"
      ],
      "execution_count": 0,
      "outputs": [
        {
          "output_type": "execute_result",
          "data": {
            "text/plain": [
              "['Install',\n",
              " 'packages',\n",
              " 'nltk',\n",
              " ',',\n",
              " 'numpy',\n",
              " ',',\n",
              " 'scipy',\n",
              " ',',\n",
              " 'pandas',\n",
              " ',',\n",
              " 'and',\n",
              " 'sklearn',\n",
              " 'on',\n",
              " 'Google',\n",
              " 'Colab',\n",
              " '.',\n",
              " 'Write',\n",
              " 'a',\n",
              " 'program',\n",
              " 'to',\n",
              " 'test',\n",
              " 'whether',\n",
              " 'they',\n",
              " 'are',\n",
              " 'installed',\n",
              " 'successfully']"
            ]
          },
          "metadata": {
            "tags": []
          },
          "execution_count": 10
        }
      ]
    },
    {
      "cell_type": "code",
      "metadata": {
        "id": "LWt6SQezc_7G",
        "colab_type": "code",
        "outputId": "f24834cb-0d93-4783-808f-424ddb64c8ac",
        "colab": {
          "base_uri": "https://localhost:8080/",
          "height": 68
        }
      },
      "source": [
        "# test numpy\n",
        "import numpy as np\n",
        "a = np.arange(15).reshape(3, 5)\n",
        "a"
      ],
      "execution_count": 0,
      "outputs": [
        {
          "output_type": "execute_result",
          "data": {
            "text/plain": [
              "array([[ 0,  1,  2,  3,  4],\n",
              "       [ 5,  6,  7,  8,  9],\n",
              "       [10, 11, 12, 13, 14]])"
            ]
          },
          "metadata": {
            "tags": []
          },
          "execution_count": 11
        }
      ]
    },
    {
      "cell_type": "code",
      "metadata": {
        "id": "rph6-dysdVbj",
        "colab_type": "code",
        "outputId": "3bc349a9-4adc-4d16-9893-a5cf58f1f181",
        "colab": {
          "base_uri": "https://localhost:8080/",
          "height": 34
        }
      },
      "source": [
        "#test scipy\n",
        "from scipy import special\n",
        "a = special.exp10(3)\n",
        "print(a)"
      ],
      "execution_count": 0,
      "outputs": [
        {
          "output_type": "stream",
          "text": [
            "1000.0\n"
          ],
          "name": "stdout"
        }
      ]
    },
    {
      "cell_type": "code",
      "metadata": {
        "id": "cNcQrax3dmU1",
        "colab_type": "code",
        "outputId": "84d04636-0849-4acb-f7f6-c3df642a8812",
        "colab": {
          "base_uri": "https://localhost:8080/",
          "height": 119
        }
      },
      "source": [
        "#test pandas\n",
        "dict = {\"country\": [\"Brazil\", \"Russia\", \"India\", \"China\", \"South Africa\"],\n",
        "       \"capital\": [\"Brasilia\", \"Moscow\", \"New Dehli\", \"Beijing\", \"Pretoria\"],\n",
        "       \"area\": [8.516, 17.10, 3.286, 9.597, 1.221],\n",
        "       \"population\": [200.4, 143.5, 1252, 1357, 52.98] }\n",
        "\n",
        "import pandas as pd\n",
        "brics = pd.DataFrame(dict)\n",
        "print(brics)\n"
      ],
      "execution_count": 0,
      "outputs": [
        {
          "output_type": "stream",
          "text": [
            "        country    capital    area  population\n",
            "0        Brazil   Brasilia   8.516      200.40\n",
            "1        Russia     Moscow  17.100      143.50\n",
            "2         India  New Dehli   3.286     1252.00\n",
            "3         China    Beijing   9.597     1357.00\n",
            "4  South Africa   Pretoria   1.221       52.98\n"
          ],
          "name": "stdout"
        }
      ]
    },
    {
      "cell_type": "code",
      "metadata": {
        "id": "WV0FRzDkduXJ",
        "colab_type": "code",
        "outputId": "6254576d-b194-488d-e345-230d33b3480f",
        "colab": {
          "base_uri": "https://localhost:8080/",
          "height": 34
        }
      },
      "source": [
        "#test sklearn\n",
        "from sklearn import datasets\n",
        "from sklearn.svm import SVC\n",
        "iris = datasets.load_iris()\n",
        "clf = SVC()\n",
        "clf.fit(iris.data, iris.target)\n",
        "SVC()\n",
        "\n",
        "list(clf.predict(iris.data[:3]))\n"
      ],
      "execution_count": 0,
      "outputs": [
        {
          "output_type": "execute_result",
          "data": {
            "text/plain": [
              "[0, 0, 0]"
            ]
          },
          "metadata": {
            "tags": []
          },
          "execution_count": 17
        }
      ]
    }
  ]
}